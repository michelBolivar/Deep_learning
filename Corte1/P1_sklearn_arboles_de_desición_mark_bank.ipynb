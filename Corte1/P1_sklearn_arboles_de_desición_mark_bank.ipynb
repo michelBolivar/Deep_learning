{
  "nbformat": 4,
  "nbformat_minor": 0,
  "metadata": {
    "colab": {
      "name": "P1_sklearn-arboles_de_desición_mark_bank",
      "provenance": []
    },
    "kernelspec": {
      "name": "python3",
      "display_name": "Python 3"
    },
    "language_info": {
      "name": "python"
    }
  },
  "cells": [
    {
      "cell_type": "markdown",
      "metadata": {
        "id": "1ar0Uptk5UZF"
      },
      "source": [
        "Laura Michel Bolivar Rincon "
      ]
    },
    {
      "cell_type": "markdown",
      "metadata": {
        "id": "lKHl0Kqt5gRF"
      },
      "source": [
        "##Importamos Librerias"
      ]
    },
    {
      "cell_type": "code",
      "metadata": {
        "id": "YIND-J265Cgj"
      },
      "source": [
        "import numpy as np\n",
        "import pandas as pd\n",
        "import matplotlib.pyplot as plt\n",
        "import seaborn as sns\n",
        "from sklearn.model_selection import train_test_split \n",
        "from sklearn.tree import DecisionTreeClassifier "
      ],
      "execution_count": 222,
      "outputs": []
    },
    {
      "cell_type": "markdown",
      "metadata": {
        "id": "nPSh5GM25jLx"
      },
      "source": [
        "##Cargamos la Bd "
      ]
    },
    {
      "cell_type": "code",
      "metadata": {
        "id": "ckGo7RHo5eaL"
      },
      "source": [
        "data = pd.DataFrame()\n",
        "data = pd.read_csv('https://raw.githubusercontent.com/luisFernandoCastellanosG/Machine_learning/master/Machine_Learning_Classic/Databasets/mercadeo_bancario.csv', encoding='utf-8')"
      ],
      "execution_count": 223,
      "outputs": []
    },
    {
      "cell_type": "markdown",
      "metadata": {
        "id": "bbavRw-F5q-a"
      },
      "source": [
        "##Conocemos la Bd"
      ]
    },
    {
      "cell_type": "code",
      "metadata": {
        "colab": {
          "base_uri": "https://localhost:8080/",
          "height": 314
        },
        "id": "bA0nNkA85uBD",
        "outputId": "5f33471f-0ee0-42d0-d5c1-32df2d6b5eec"
      },
      "source": [
        "data.describe()"
      ],
      "execution_count": 224,
      "outputs": [
        {
          "output_type": "execute_result",
          "data": {
            "text/html": [
              "<div>\n",
              "<style scoped>\n",
              "    .dataframe tbody tr th:only-of-type {\n",
              "        vertical-align: middle;\n",
              "    }\n",
              "\n",
              "    .dataframe tbody tr th {\n",
              "        vertical-align: top;\n",
              "    }\n",
              "\n",
              "    .dataframe thead th {\n",
              "        text-align: right;\n",
              "    }\n",
              "</style>\n",
              "<table border=\"1\" class=\"dataframe\">\n",
              "  <thead>\n",
              "    <tr style=\"text-align: right;\">\n",
              "      <th></th>\n",
              "      <th>edad</th>\n",
              "      <th>total_hijos</th>\n",
              "      <th>valor_prestamo</th>\n",
              "      <th>dias_ultimo_pago</th>\n",
              "      <th>tarjetas_credito</th>\n",
              "      <th>duracion_ultimo_contacto</th>\n",
              "      <th>dias_ultimo_contacto</th>\n",
              "      <th>anterior_contacto</th>\n",
              "      <th>numero_empleados</th>\n",
              "      <th>si_no</th>\n",
              "    </tr>\n",
              "  </thead>\n",
              "  <tbody>\n",
              "    <tr>\n",
              "      <th>count</th>\n",
              "      <td>41188.00000</td>\n",
              "      <td>41188.000000</td>\n",
              "      <td>41188.000000</td>\n",
              "      <td>41188.000000</td>\n",
              "      <td>41188.000000</td>\n",
              "      <td>41188.000000</td>\n",
              "      <td>41188.00000</td>\n",
              "      <td>41188.000000</td>\n",
              "      <td>41188.000000</td>\n",
              "      <td>41188.000000</td>\n",
              "    </tr>\n",
              "    <tr>\n",
              "      <th>mean</th>\n",
              "      <td>40.02406</td>\n",
              "      <td>3.984680</td>\n",
              "      <td>149706.676751</td>\n",
              "      <td>0.336409</td>\n",
              "      <td>2.497524</td>\n",
              "      <td>258.285010</td>\n",
              "      <td>26.35117</td>\n",
              "      <td>0.172963</td>\n",
              "      <td>1002.421652</td>\n",
              "      <td>0.112654</td>\n",
              "    </tr>\n",
              "    <tr>\n",
              "      <th>std</th>\n",
              "      <td>10.42125</td>\n",
              "      <td>2.583405</td>\n",
              "      <td>166028.840792</td>\n",
              "      <td>4.478984</td>\n",
              "      <td>1.703683</td>\n",
              "      <td>259.279249</td>\n",
              "      <td>29.94257</td>\n",
              "      <td>0.494901</td>\n",
              "      <td>577.707188</td>\n",
              "      <td>0.316173</td>\n",
              "    </tr>\n",
              "    <tr>\n",
              "      <th>min</th>\n",
              "      <td>17.00000</td>\n",
              "      <td>0.000000</td>\n",
              "      <td>0.000000</td>\n",
              "      <td>0.000000</td>\n",
              "      <td>0.000000</td>\n",
              "      <td>0.000000</td>\n",
              "      <td>0.00000</td>\n",
              "      <td>0.000000</td>\n",
              "      <td>0.000000</td>\n",
              "      <td>0.000000</td>\n",
              "    </tr>\n",
              "    <tr>\n",
              "      <th>25%</th>\n",
              "      <td>32.00000</td>\n",
              "      <td>2.000000</td>\n",
              "      <td>0.000000</td>\n",
              "      <td>0.000000</td>\n",
              "      <td>1.000000</td>\n",
              "      <td>102.000000</td>\n",
              "      <td>0.00000</td>\n",
              "      <td>0.000000</td>\n",
              "      <td>504.000000</td>\n",
              "      <td>0.000000</td>\n",
              "    </tr>\n",
              "    <tr>\n",
              "      <th>50%</th>\n",
              "      <td>38.00000</td>\n",
              "      <td>4.000000</td>\n",
              "      <td>81778.500000</td>\n",
              "      <td>0.000000</td>\n",
              "      <td>2.000000</td>\n",
              "      <td>180.000000</td>\n",
              "      <td>13.00000</td>\n",
              "      <td>0.000000</td>\n",
              "      <td>1001.000000</td>\n",
              "      <td>0.000000</td>\n",
              "    </tr>\n",
              "    <tr>\n",
              "      <th>75%</th>\n",
              "      <td>47.00000</td>\n",
              "      <td>6.000000</td>\n",
              "      <td>290938.500000</td>\n",
              "      <td>0.000000</td>\n",
              "      <td>4.000000</td>\n",
              "      <td>319.000000</td>\n",
              "      <td>52.00000</td>\n",
              "      <td>0.000000</td>\n",
              "      <td>1506.000000</td>\n",
              "      <td>0.000000</td>\n",
              "    </tr>\n",
              "    <tr>\n",
              "      <th>max</th>\n",
              "      <td>98.00000</td>\n",
              "      <td>8.000000</td>\n",
              "      <td>499992.000000</td>\n",
              "      <td>90.000000</td>\n",
              "      <td>5.000000</td>\n",
              "      <td>4918.000000</td>\n",
              "      <td>90.00000</td>\n",
              "      <td>7.000000</td>\n",
              "      <td>2000.000000</td>\n",
              "      <td>1.000000</td>\n",
              "    </tr>\n",
              "  </tbody>\n",
              "</table>\n",
              "</div>"
            ],
            "text/plain": [
              "              edad   total_hijos  ...  numero_empleados         si_no\n",
              "count  41188.00000  41188.000000  ...      41188.000000  41188.000000\n",
              "mean      40.02406      3.984680  ...       1002.421652      0.112654\n",
              "std       10.42125      2.583405  ...        577.707188      0.316173\n",
              "min       17.00000      0.000000  ...          0.000000      0.000000\n",
              "25%       32.00000      2.000000  ...        504.000000      0.000000\n",
              "50%       38.00000      4.000000  ...       1001.000000      0.000000\n",
              "75%       47.00000      6.000000  ...       1506.000000      0.000000\n",
              "max       98.00000      8.000000  ...       2000.000000      1.000000\n",
              "\n",
              "[8 rows x 10 columns]"
            ]
          },
          "metadata": {},
          "execution_count": 224
        }
      ]
    },
    {
      "cell_type": "markdown",
      "metadata": {
        "id": "mb5hozv354oh"
      },
      "source": [
        "##Convertimos cada categoria a data *numerica*"
      ]
    },
    {
      "cell_type": "code",
      "metadata": {
        "id": "96e-M4iv5-ge"
      },
      "source": [
        "from sklearn import preprocessing\n",
        "le =preprocessing.LabelEncoder()"
      ],
      "execution_count": 225,
      "outputs": []
    },
    {
      "cell_type": "code",
      "metadata": {
        "id": "fQAJpSut6A_b"
      },
      "source": [
        "data['trabajo']=le.fit_transform(data['trabajo'])  \n",
        "data['estado_civil ']=le.fit_transform(data['estado_civil '])   \n",
        "data['credito_sin_pago']=le.fit_transform(data['credito_sin_pago'])  \n",
        "data['prestamo_vivienda']=le.fit_transform(data['prestamo_vivienda']) \n",
        "data['prestamo_personal']=le.fit_transform(data['prestamo_personal'])  \n",
        "data['contacto']=le.fit_transform(data['contacto']) \n"
      ],
      "execution_count": 226,
      "outputs": []
    },
    {
      "cell_type": "code",
      "metadata": {
        "id": "n-vK1iRX6LBD"
      },
      "source": [
        "educacion = {\n",
        "    'unknown': 0,\n",
        "    'preschool': 1,\n",
        "    'primary_school': 2,\n",
        "    'tecnical_school': 3,\n",
        "    'Technological_school': 4,\n",
        "    'illiterate': 5,\n",
        "    'professional.course': 6,\n",
        "    'university.degree': 7\n",
        "}\n",
        "data['educacion'] = data['educacion'].map(educacion)"
      ],
      "execution_count": 227,
      "outputs": []
    },
    {
      "cell_type": "code",
      "metadata": {
        "id": "ERHTRNBY6OMj"
      },
      "source": [
        "mes = {\n",
        "    'mar': 3,\n",
        "    'apr': 4,\n",
        "    'may': 5,\n",
        "    'jun': 6,\n",
        "    'jul': 7,\n",
        "    'aug': 8,\n",
        "    'sep': 9,\n",
        "    'oct': 10,\n",
        "    'nov': 11\n",
        "}\n",
        "data['mes'] = data['mes'].map(mes)"
      ],
      "execution_count": 228,
      "outputs": []
    },
    {
      "cell_type": "code",
      "metadata": {
        "id": "bgLZ5Uoo6SB3"
      },
      "source": [
        "dia_semana = {\n",
        "    'sun': 1,\n",
        "    'mon': 2,\n",
        "    'tue': 3,\n",
        "    'wed': 4,\n",
        "    'thu': 5,\n",
        "    'fri': 6,\n",
        "    'sat': 7\n",
        "}\n",
        "data['dia_semana'] = data['dia_semana'].map(dia_semana)"
      ],
      "execution_count": 229,
      "outputs": []
    },
    {
      "cell_type": "markdown",
      "metadata": {
        "id": "ZdmqSjei6czE"
      },
      "source": [
        "###Verificamos la conversion de los datos"
      ]
    },
    {
      "cell_type": "code",
      "metadata": {
        "colab": {
          "base_uri": "https://localhost:8080/"
        },
        "id": "f0DgP2DZ6f1s",
        "outputId": "3b58a256-c7d6-4e03-f504-e88a3f85d98e"
      },
      "source": [
        "data.info()"
      ],
      "execution_count": 230,
      "outputs": [
        {
          "output_type": "stream",
          "name": "stdout",
          "text": [
            "<class 'pandas.core.frame.DataFrame'>\n",
            "RangeIndex: 41188 entries, 0 to 41187\n",
            "Data columns (total 19 columns):\n",
            " #   Column                    Non-Null Count  Dtype  \n",
            "---  ------                    --------------  -----  \n",
            " 0   edad                      41188 non-null  int64  \n",
            " 1   trabajo                   41188 non-null  int64  \n",
            " 2   estado_civil              41188 non-null  int64  \n",
            " 3   educacion                 41188 non-null  int64  \n",
            " 4   total_hijos               41188 non-null  int64  \n",
            " 5   credito_sin_pago          41188 non-null  int64  \n",
            " 6   prestamo_vivienda         41188 non-null  int64  \n",
            " 7   prestamo_personal         41188 non-null  int64  \n",
            " 8   valor_prestamo            41188 non-null  int64  \n",
            " 9   dias_ultimo_pago          41188 non-null  int64  \n",
            " 10  tarjetas_credito          41188 non-null  int64  \n",
            " 11  contacto                  41188 non-null  int64  \n",
            " 12  mes                       41006 non-null  float64\n",
            " 13  dia_semana                41188 non-null  int64  \n",
            " 14  duracion_ultimo_contacto  41188 non-null  int64  \n",
            " 15  dias_ultimo_contacto      41188 non-null  int64  \n",
            " 16  anterior_contacto         41188 non-null  int64  \n",
            " 17  numero_empleados          41188 non-null  int64  \n",
            " 18  si_no                     41188 non-null  int64  \n",
            "dtypes: float64(1), int64(18)\n",
            "memory usage: 6.0 MB\n"
          ]
        }
      ]
    },
    {
      "cell_type": "markdown",
      "metadata": {
        "id": "eX_6JlWz6k_3"
      },
      "source": [
        "####Mes estan aun con tipo FLOAT lo convertimos a entero"
      ]
    },
    {
      "cell_type": "code",
      "metadata": {
        "id": "Pbid7tn76oWV"
      },
      "source": [
        "data= data.fillna(0)"
      ],
      "execution_count": 231,
      "outputs": []
    },
    {
      "cell_type": "code",
      "metadata": {
        "id": "5Ff4PnxM6t67"
      },
      "source": [
        "data['mes']= data['mes'].astype('int')"
      ],
      "execution_count": 232,
      "outputs": []
    },
    {
      "cell_type": "markdown",
      "metadata": {
        "id": "BVqW58zYJnec"
      },
      "source": [
        "#Arbol  de Desicion"
      ]
    },
    {
      "cell_type": "markdown",
      "metadata": {
        "id": "hrifx4xG7mED"
      },
      "source": [
        "##Dividimos el conjunto de datos "
      ]
    },
    {
      "cell_type": "code",
      "metadata": {
        "id": "SAGKzcdC7pmU"
      },
      "source": [
        "dat_p=data.drop('si_no', axis=1)\n",
        "X = dat_p\n",
        "y = data.si_no\n",
        "X_train, X_test, y_train, y_test = train_test_split(X, y, random_state=56)"
      ],
      "execution_count": 233,
      "outputs": []
    },
    {
      "cell_type": "markdown",
      "metadata": {
        "id": "yLDzq93F8eFM"
      },
      "source": [
        "####Instanciar arbol de desicion \n"
      ]
    },
    {
      "cell_type": "code",
      "metadata": {
        "id": "3pgyy_Mt8hql"
      },
      "source": [
        "arbol_clasi=DecisionTreeClassifier(max_depth=3, random_state=0)"
      ],
      "execution_count": 234,
      "outputs": []
    },
    {
      "cell_type": "markdown",
      "metadata": {
        "id": "RZ5Gecog8l69"
      },
      "source": [
        "####Entrenamos el modelo "
      ]
    },
    {
      "cell_type": "code",
      "metadata": {
        "colab": {
          "base_uri": "https://localhost:8080/"
        },
        "id": "wngv14dm8o3m",
        "outputId": "13ec7fcc-0c53-4bdf-8116-3921afb7a110"
      },
      "source": [
        "arbol_clasi.fit(X_train, y_train)"
      ],
      "execution_count": 235,
      "outputs": [
        {
          "output_type": "execute_result",
          "data": {
            "text/plain": [
              "DecisionTreeClassifier(ccp_alpha=0.0, class_weight=None, criterion='gini',\n",
              "                       max_depth=3, max_features=None, max_leaf_nodes=None,\n",
              "                       min_impurity_decrease=0.0, min_impurity_split=None,\n",
              "                       min_samples_leaf=1, min_samples_split=2,\n",
              "                       min_weight_fraction_leaf=0.0, presort='deprecated',\n",
              "                       random_state=0, splitter='best')"
            ]
          },
          "metadata": {},
          "execution_count": 235
        }
      ]
    },
    {
      "cell_type": "markdown",
      "metadata": {
        "id": "gYVa213t8ypk"
      },
      "source": [
        "###Utilizamos los datos para predecir "
      ]
    },
    {
      "cell_type": "code",
      "metadata": {
        "colab": {
          "base_uri": "https://localhost:8080/"
        },
        "id": "JpudZTAK82Rw",
        "outputId": "acbae814-f463-4ea1-ba48-e9a083de6d00"
      },
      "source": [
        "print(X_test.iloc[0])\n",
        "print(y_test.iloc[0])\n",
        "arbol_clasi.predict(X_test.iloc[0].values.reshape(1,-1))\n",
        "arbol_clasi.predict(X_test[0:10])"
      ],
      "execution_count": 236,
      "outputs": [
        {
          "output_type": "stream",
          "name": "stdout",
          "text": [
            "edad                         40\n",
            "trabajo                       9\n",
            "estado_civil                  1\n",
            "educacion                     6\n",
            "total_hijos                   5\n",
            "credito_sin_pago              0\n",
            "prestamo_vivienda             0\n",
            "prestamo_personal             0\n",
            "valor_prestamo                0\n",
            "dias_ultimo_pago              0\n",
            "tarjetas_credito              1\n",
            "contacto                      1\n",
            "mes                           6\n",
            "dia_semana                    2\n",
            "duracion_ultimo_contacto    119\n",
            "dias_ultimo_contacto          0\n",
            "anterior_contacto             0\n",
            "numero_empleados            749\n",
            "Name: 25900, dtype: int64\n",
            "0\n"
          ]
        },
        {
          "output_type": "execute_result",
          "data": {
            "text/plain": [
              "array([0, 0, 0, 0, 0, 0, 0, 0, 0, 0])"
            ]
          },
          "metadata": {},
          "execution_count": 236
        }
      ]
    },
    {
      "cell_type": "markdown",
      "metadata": {
        "id": "rMgLyLYH9OnT"
      },
      "source": [
        "####Presicion(accuary) del alogritmo"
      ]
    },
    {
      "cell_type": "code",
      "metadata": {
        "colab": {
          "base_uri": "https://localhost:8080/"
        },
        "id": "hNJf00nW9RQx",
        "outputId": "3fbf074c-7ec4-4d51-afec-f093aa480071"
      },
      "source": [
        "accuary=arbol_clasi.score(X_test,y_test)\n",
        "print(accuary)"
      ],
      "execution_count": 237,
      "outputs": [
        {
          "output_type": "stream",
          "name": "stdout",
          "text": [
            "0.8976400893464116\n"
          ]
        }
      ]
    },
    {
      "cell_type": "code",
      "metadata": {
        "colab": {
          "base_uri": "https://localhost:8080/"
        },
        "id": "vnjzM6UiIMHc",
        "outputId": "12605fb1-df83-4293-8d37-711e903d12ba"
      },
      "source": [
        "data.columns"
      ],
      "execution_count": 238,
      "outputs": [
        {
          "output_type": "execute_result",
          "data": {
            "text/plain": [
              "Index(['edad', 'trabajo', 'estado_civil ', 'educacion', 'total_hijos',\n",
              "       'credito_sin_pago', 'prestamo_vivienda', 'prestamo_personal',\n",
              "       'valor_prestamo', 'dias_ultimo_pago', 'tarjetas_credito', 'contacto',\n",
              "       'mes', 'dia_semana', 'duracion_ultimo_contacto', 'dias_ultimo_contacto',\n",
              "       'anterior_contacto', 'numero_empleados', 'si_no'],\n",
              "      dtype='object')"
            ]
          },
          "metadata": {},
          "execution_count": 238
        }
      ]
    },
    {
      "cell_type": "markdown",
      "metadata": {
        "id": "mj0idxUBJ2SJ"
      },
      "source": [
        "##Graficando el Arbol"
      ]
    },
    {
      "cell_type": "code",
      "metadata": {
        "colab": {
          "base_uri": "https://localhost:8080/"
        },
        "id": "r9Fa8iAxIF0c",
        "outputId": "5ffb5755-c37e-4143-f24c-b7fd05f577e1"
      },
      "source": [
        "class_names_list=list(['edad', 'trabajo', 'estado_civil ', 'educacion', 'total_hijos',\n",
        "       'credito_sin_pago', 'prestamo_vivienda', 'prestamo_personal',\n",
        "       'valor_prestamo', 'dias_ultimo_pago', 'tarjetas_credito', 'contacto',\n",
        "       'mes', 'dia_semana', 'duracion_ultimo_contacto', 'dias_ultimo_contacto',\n",
        "       'anterior_contacto', 'numero_empleados'])\n",
        "from sklearn.tree import export_graphviz\n",
        "from pydotplus import graph_from_dot_data\n",
        "dot_data =export_graphviz(arbol_clasi,feature_names=dat_p.columns, class_names=class_names_list)\n",
        "graph = graph_from_dot_data(dot_data)\n",
        "graph.write_png('mark_data_todo.png')"
      ],
      "execution_count": 239,
      "outputs": [
        {
          "output_type": "execute_result",
          "data": {
            "text/plain": [
              "True"
            ]
          },
          "metadata": {},
          "execution_count": 239
        }
      ]
    },
    {
      "cell_type": "markdown",
      "metadata": {
        "id": "OkI4_m2YKAN0"
      },
      "source": [
        "##Conociendo las caracteristicas mas importantes"
      ]
    },
    {
      "cell_type": "code",
      "metadata": {
        "colab": {
          "base_uri": "https://localhost:8080/",
          "height": 355
        },
        "id": "8l8ve26oIrwY",
        "outputId": "5a6ba518-bfc5-4549-809c-0b63c94d61f3"
      },
      "source": [
        "importances= pd.DataFrame({'feature':X_train.columns, 'importance':np.round(arbol_clasi.feature_importances_,3)})\n",
        "importances = importances.sort_values('importance',ascending=False)\n",
        "importances.head(10)"
      ],
      "execution_count": 240,
      "outputs": [
        {
          "output_type": "execute_result",
          "data": {
            "text/html": [
              "<div>\n",
              "<style scoped>\n",
              "    .dataframe tbody tr th:only-of-type {\n",
              "        vertical-align: middle;\n",
              "    }\n",
              "\n",
              "    .dataframe tbody tr th {\n",
              "        vertical-align: top;\n",
              "    }\n",
              "\n",
              "    .dataframe thead th {\n",
              "        text-align: right;\n",
              "    }\n",
              "</style>\n",
              "<table border=\"1\" class=\"dataframe\">\n",
              "  <thead>\n",
              "    <tr style=\"text-align: right;\">\n",
              "      <th></th>\n",
              "      <th>feature</th>\n",
              "      <th>importance</th>\n",
              "    </tr>\n",
              "  </thead>\n",
              "  <tbody>\n",
              "    <tr>\n",
              "      <th>14</th>\n",
              "      <td>duracion_ultimo_contacto</td>\n",
              "      <td>0.709</td>\n",
              "    </tr>\n",
              "    <tr>\n",
              "      <th>16</th>\n",
              "      <td>anterior_contacto</td>\n",
              "      <td>0.158</td>\n",
              "    </tr>\n",
              "    <tr>\n",
              "      <th>12</th>\n",
              "      <td>mes</td>\n",
              "      <td>0.101</td>\n",
              "    </tr>\n",
              "    <tr>\n",
              "      <th>11</th>\n",
              "      <td>contacto</td>\n",
              "      <td>0.032</td>\n",
              "    </tr>\n",
              "    <tr>\n",
              "      <th>0</th>\n",
              "      <td>edad</td>\n",
              "      <td>0.000</td>\n",
              "    </tr>\n",
              "    <tr>\n",
              "      <th>1</th>\n",
              "      <td>trabajo</td>\n",
              "      <td>0.000</td>\n",
              "    </tr>\n",
              "    <tr>\n",
              "      <th>15</th>\n",
              "      <td>dias_ultimo_contacto</td>\n",
              "      <td>0.000</td>\n",
              "    </tr>\n",
              "    <tr>\n",
              "      <th>13</th>\n",
              "      <td>dia_semana</td>\n",
              "      <td>0.000</td>\n",
              "    </tr>\n",
              "    <tr>\n",
              "      <th>10</th>\n",
              "      <td>tarjetas_credito</td>\n",
              "      <td>0.000</td>\n",
              "    </tr>\n",
              "    <tr>\n",
              "      <th>9</th>\n",
              "      <td>dias_ultimo_pago</td>\n",
              "      <td>0.000</td>\n",
              "    </tr>\n",
              "  </tbody>\n",
              "</table>\n",
              "</div>"
            ],
            "text/plain": [
              "                     feature  importance\n",
              "14  duracion_ultimo_contacto       0.709\n",
              "16         anterior_contacto       0.158\n",
              "12                       mes       0.101\n",
              "11                  contacto       0.032\n",
              "0                       edad       0.000\n",
              "1                    trabajo       0.000\n",
              "15      dias_ultimo_contacto       0.000\n",
              "13                dia_semana       0.000\n",
              "10          tarjetas_credito       0.000\n",
              "9           dias_ultimo_pago       0.000"
            ]
          },
          "metadata": {},
          "execution_count": 240
        }
      ]
    },
    {
      "cell_type": "code",
      "metadata": {
        "id": "_VxGPBqrI4wD"
      },
      "source": [
        "max_depth_lista=list(range(1,15))\n",
        "accuracy=[]\n",
        "for depth in max_depth_lista:\n",
        "    #creamos la instancia del arbol\n",
        "  arbol_clasi= DecisionTreeClassifier(max_depth=depth, random_state=0)\n",
        "  #Entrenamos on la informacion \n",
        "  arbol_clasi.fit(X_train,y_train)\n",
        "  #Obtenemos el score\n",
        "  score=arbol_clasi.score(X_test,y_test)\n",
        "  accuracy.append(score)"
      ],
      "execution_count": 241,
      "outputs": []
    },
    {
      "cell_type": "code",
      "metadata": {
        "colab": {
          "base_uri": "https://localhost:8080/",
          "height": 278
        },
        "id": "HUGJE6FXJMyj",
        "outputId": "48e12282-5b7f-4fda-f24a-c18fb92d8976"
      },
      "source": [
        "plt.plot(max_depth_lista,accuracy)\n",
        "plt.ylabel('accuracy')\n",
        "plt.xlabel('depth')\n",
        "plt.grid(True)\n",
        "plt.show()"
      ],
      "execution_count": 242,
      "outputs": [
        {
          "output_type": "display_data",
          "data": {
            "image/png": "[encoded data removed]",
            "text/plain": [
              "<Figure size 432x288 with 1 Axes>"
            ]
          },
          "metadata": {
            "needs_background": "light"
          }
        }
      ]
    },
    {
      "cell_type": "markdown",
      "metadata": {
        "id": "YmwniFpkEfxY"
      },
      "source": [
        "#Parte2"
      ]
    },
    {
      "cell_type": "code",
      "metadata": {
        "colab": {
          "base_uri": "https://localhost:8080/"
        },
        "id": "7CAzgxcGBkaT",
        "outputId": "0dfc5473-3768-4217-d4c3-8916d3ff39e8"
      },
      "source": [
        "filter_data = {\"duracion_ultimo_contacto\":data[\"duracion_ultimo_contacto\"],\"anterior_contacto\":data[\"anterior_contacto\"],\"credito_sin_pago\":data['credito_sin_pago'],\"si_no\":data[\"si_no\"]}\n",
        "filter_dataset = pd.DataFrame(data=filter_data)\n",
        "print(filter_dataset) "
      ],
      "execution_count": 243,
      "outputs": [
        {
          "output_type": "stream",
          "name": "stdout",
          "text": [
            "       duracion_ultimo_contacto  anterior_contacto  credito_sin_pago  si_no\n",
            "0                           210                  0                 1      0\n",
            "1                           138                  0                 0      0\n",
            "2                           339                  2                 0      1\n",
            "3                           185                  0                 0      0\n",
            "4                           137                  1                 0      1\n",
            "...                         ...                ...               ...    ...\n",
            "41183                       222                  0                 1      0\n",
            "41184                       196                  0                 1      0\n",
            "41185                        62                  0                 2      0\n",
            "41186                       200                  0                 2      0\n",
            "41187                       112                  0                 0      0\n",
            "\n",
            "[41188 rows x 4 columns]\n"
          ]
        }
      ]
    },
    {
      "cell_type": "code",
      "metadata": {
        "colab": {
          "base_uri": "https://localhost:8080/"
        },
        "id": "EBjvUxcfCv63",
        "outputId": "f87ec74b-5c43-4e19-814b-758237e55d98"
      },
      "source": [
        "filter_dataset.columns"
      ],
      "execution_count": 244,
      "outputs": [
        {
          "output_type": "execute_result",
          "data": {
            "text/plain": [
              "Index(['duracion_ultimo_contacto', 'anterior_contacto', 'credito_sin_pago',\n",
              "       'si_no'],\n",
              "      dtype='object')"
            ]
          },
          "metadata": {},
          "execution_count": 244
        }
      ]
    },
    {
      "cell_type": "code",
      "metadata": {
        "id": "WkUei9YXFLmQ"
      },
      "source": [
        "dat=filter_dataset.drop('si_no', axis=1)\n",
        "X = dat\n",
        "y = filter_dataset.si_no\n",
        "X_train, X_test, y_train, y_test = train_test_split(X, y, random_state=42)"
      ],
      "execution_count": 245,
      "outputs": []
    },
    {
      "cell_type": "code",
      "metadata": {
        "id": "EBcz1DqQFG89"
      },
      "source": [
        "arbol_clasi=DecisionTreeClassifier(max_depth=5, random_state=7)"
      ],
      "execution_count": 246,
      "outputs": []
    },
    {
      "cell_type": "code",
      "metadata": {
        "colab": {
          "base_uri": "https://localhost:8080/"
        },
        "id": "Z14VEknYFdDD",
        "outputId": "d66236ce-5aab-4999-ac52-efe41ecba007"
      },
      "source": [
        "arbol_clasi.fit(X_train, y_train)"
      ],
      "execution_count": 247,
      "outputs": [
        {
          "output_type": "execute_result",
          "data": {
            "text/plain": [
              "DecisionTreeClassifier(ccp_alpha=0.0, class_weight=None, criterion='gini',\n",
              "                       max_depth=5, max_features=None, max_leaf_nodes=None,\n",
              "                       min_impurity_decrease=0.0, min_impurity_split=None,\n",
              "                       min_samples_leaf=1, min_samples_split=2,\n",
              "                       min_weight_fraction_leaf=0.0, presort='deprecated',\n",
              "                       random_state=7, splitter='best')"
            ]
          },
          "metadata": {},
          "execution_count": 247
        }
      ]
    },
    {
      "cell_type": "code",
      "metadata": {
        "colab": {
          "base_uri": "https://localhost:8080/"
        },
        "id": "b6lS__i2Fl3m",
        "outputId": "240836c3-9121-4baa-d9ca-76851fbee9fd"
      },
      "source": [
        "print(X_test.iloc[0])\n",
        "print(y_test.iloc[0])\n",
        "arbol_clasi.predict(X_test.iloc[0].values.reshape(1,-1))\n",
        "arbol_clasi.predict(X_test[0:10])"
      ],
      "execution_count": 248,
      "outputs": [
        {
          "output_type": "stream",
          "name": "stdout",
          "text": [
            "duracion_ultimo_contacto    244\n",
            "anterior_contacto             0\n",
            "credito_sin_pago              0\n",
            "Name: 32884, dtype: int64\n",
            "0\n"
          ]
        },
        {
          "output_type": "execute_result",
          "data": {
            "text/plain": [
              "array([0, 0, 1, 0, 0, 0, 0, 0, 0, 0])"
            ]
          },
          "metadata": {},
          "execution_count": 248
        }
      ]
    },
    {
      "cell_type": "code",
      "metadata": {
        "colab": {
          "base_uri": "https://localhost:8080/"
        },
        "id": "83liHBJ8FquP",
        "outputId": "f4c83f28-99dd-435d-b49c-b1cf068290b1"
      },
      "source": [
        "accuary=arbol_clasi.score(X_test,y_test)\n",
        "print(accuary)"
      ],
      "execution_count": 249,
      "outputs": [
        {
          "output_type": "stream",
          "name": "stdout",
          "text": [
            "0.8920073807905216\n"
          ]
        }
      ]
    },
    {
      "cell_type": "markdown",
      "metadata": {
        "id": "qNlAY_Dm9d1Z"
      },
      "source": [
        "##Graficando Arbol"
      ]
    },
    {
      "cell_type": "code",
      "metadata": {
        "colab": {
          "base_uri": "https://localhost:8080/"
        },
        "id": "yDL_N66WF53Z",
        "outputId": "6e6f85cc-3a43-4555-ba89-bf2ac396a389"
      },
      "source": [
        "class_names_list=list(['duracion_ultimo_contacto','anterior_contacto','credito_sin_pago'])\n",
        "from sklearn.tree import export_graphviz\n",
        "from pydotplus import graph_from_dot_data\n",
        "dot_data =export_graphviz(arbol_clasi,feature_names=dat.columns, class_names=class_names_list)\n",
        "graph = graph_from_dot_data(dot_data)\n",
        "graph.write_png('mark_data2.png')"
      ],
      "execution_count": 105,
      "outputs": [
        {
          "output_type": "execute_result",
          "data": {
            "text/plain": [
              "True"
            ]
          },
          "metadata": {},
          "execution_count": 105
        }
      ]
    },
    {
      "cell_type": "markdown",
      "metadata": {
        "id": "AJT5WAjKGpo3"
      },
      "source": [
        "###Caracteristicas mas importantes "
      ]
    },
    {
      "cell_type": "code",
      "metadata": {
        "colab": {
          "base_uri": "https://localhost:8080/",
          "height": 141
        },
        "id": "gE7pI9r_GuBm",
        "outputId": "6e550469-1e22-4cbe-ffd5-f0b75fae88e4"
      },
      "source": [
        "importances= pd.DataFrame({'feature':X_train.columns, 'importance':np.round(arbol_clasi.feature_importances_,3)})\n",
        "importances = importances.sort_values('importance',ascending=False)\n",
        "importances.head(10)"
      ],
      "execution_count": 250,
      "outputs": [
        {
          "output_type": "execute_result",
          "data": {
            "text/html": [
              "<div>\n",
              "<style scoped>\n",
              "    .dataframe tbody tr th:only-of-type {\n",
              "        vertical-align: middle;\n",
              "    }\n",
              "\n",
              "    .dataframe tbody tr th {\n",
              "        vertical-align: top;\n",
              "    }\n",
              "\n",
              "    .dataframe thead th {\n",
              "        text-align: right;\n",
              "    }\n",
              "</style>\n",
              "<table border=\"1\" class=\"dataframe\">\n",
              "  <thead>\n",
              "    <tr style=\"text-align: right;\">\n",
              "      <th></th>\n",
              "      <th>feature</th>\n",
              "      <th>importance</th>\n",
              "    </tr>\n",
              "  </thead>\n",
              "  <tbody>\n",
              "    <tr>\n",
              "      <th>0</th>\n",
              "      <td>duracion_ultimo_contacto</td>\n",
              "      <td>0.749</td>\n",
              "    </tr>\n",
              "    <tr>\n",
              "      <th>1</th>\n",
              "      <td>anterior_contacto</td>\n",
              "      <td>0.221</td>\n",
              "    </tr>\n",
              "    <tr>\n",
              "      <th>2</th>\n",
              "      <td>credito_sin_pago</td>\n",
              "      <td>0.030</td>\n",
              "    </tr>\n",
              "  </tbody>\n",
              "</table>\n",
              "</div>"
            ],
            "text/plain": [
              "                    feature  importance\n",
              "0  duracion_ultimo_contacto       0.749\n",
              "1         anterior_contacto       0.221\n",
              "2          credito_sin_pago       0.030"
            ]
          },
          "metadata": {},
          "execution_count": 250
        }
      ]
    },
    {
      "cell_type": "code",
      "metadata": {
        "id": "azb78hNOHCFx"
      },
      "source": [
        "max_depth_lista=list(range(1,15))\n",
        "accuracy=[]\n",
        "for depth in max_depth_lista:\n",
        "    #creamos la instancia del arbol\n",
        "  arbol_clasi= DecisionTreeClassifier(max_depth=depth, random_state=0)\n",
        "  #Entrenamos on la informacion \n",
        "  arbol_clasi.fit(X_train,y_train)\n",
        "  #Obtenemos el score\n",
        "  score=arbol_clasi.score(X_test,y_test)\n",
        "  accuracy.append(score)"
      ],
      "execution_count": 253,
      "outputs": []
    },
    {
      "cell_type": "code",
      "metadata": {
        "colab": {
          "base_uri": "https://localhost:8080/",
          "height": 278
        },
        "id": "R3Yo8yiQHMO-",
        "outputId": "9e97cc3e-a8e1-4e13-bcf5-a3471bbb866f"
      },
      "source": [
        "plt.plot(max_depth_lista,accuracy)\n",
        "plt.ylabel('accuracy')\n",
        "plt.xlabel('depth')\n",
        "plt.grid(True)\n",
        "plt.show()"
      ],
      "execution_count": 254,
      "outputs": [
        {
          "output_type": "display_data",
          "data": {
            "image/png": "[encoded data removed]",
            "text/plain": [
              "<Figure size 432x288 with 1 Axes>"
            ]
          },
          "metadata": {
            "needs_background": "light"
          }
        }
      ]
    }
  ]
}