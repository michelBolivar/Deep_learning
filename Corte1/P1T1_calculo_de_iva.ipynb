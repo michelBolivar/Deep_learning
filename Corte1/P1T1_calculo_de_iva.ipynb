{
  "nbformat": 4,
  "nbformat_minor": 0,
  "metadata": {
    "colab": {
      "name": "P1T1_calculo_de_iva",
      "provenance": [],
      "toc_visible": true
    },
    "kernelspec": {
      "display_name": "Python 3",
      "name": "python3"
    },
    "language_info": {
      "name": "python"
    }
  },
  "cells": [
    {
      "cell_type": "markdown",
      "metadata": {
        "id": "JhpV05BUj5Uw"
      },
      "source": [
        "**Laura Michel Bolivar Rincon **"
      ]
    },
    {
      "cell_type": "markdown",
      "metadata": {
        "id": "FQBqjSKgrNhS"
      },
      "source": [
        "Solicite el precio de 5 producto y para cada producto generarle el IVA del 19%\n",
        "• Generar el valor base de todos los productos\n",
        "• Generar el valor total del IVA\n",
        "• Generar el valor total de la Factura (valor base + IVA).\n"
      ]
    },
    {
      "cell_type": "code",
      "metadata": {
        "id": "0SYI-9P6rRE2",
        "colab": {
          "base_uri": "https://localhost:8080/"
        },
        "outputId": "a125e14c-a0bf-4203-b373-23cf3821826d"
      },
      "source": [
        "import numpy as np\n",
        "dato1,dato2,dato3,dato4,dato5 = input(\"Ingrese el precio de 5 productos separados por comas:\").split(\",\")\n",
        "a=np.array([dato1,dato2,dato3,dato4,dato5])\n",
        "for i in range(a.size): \n",
        "  producto=int(a[i])\n",
        "  iva= producto*0.19\n",
        "  totalp=np.array(producto+iva)\n",
        "  totalp.sum()\n",
        "  print(f\"El valor del producto {i+1} es: {producto} IVA del 19% es {iva} su total es:{totalp}\")  \n",
        "print(f\"Total a Pagar: {totalp}\")\n"
      ],
      "execution_count": null,
      "outputs": [
        {
          "output_type": "stream",
          "text": [
            "Ingrese el precio de 5 productos separados por comas:500,400,300,100,20\n",
            "El valor del producto 1 es: 500 IVA del 19% es 95.0 su total es:595.0\n",
            "El valor del producto 2 es: 400 IVA del 19% es 76.0 su total es:476.0\n",
            "El valor del producto 3 es: 300 IVA del 19% es 57.0 su total es:357.0\n",
            "El valor del producto 4 es: 100 IVA del 19% es 19.0 su total es:119.0\n",
            "El valor del producto 5 es: 20 IVA del 19% es 3.8 su total es:23.8\n",
            "Total a Pagar: 23.8\n"
          ],
          "name": "stdout"
        }
      ]
    }
  ]
}