{
  "nbformat": 4,
  "nbformat_minor": 0,
  "metadata": {
    "colab": {
      "name": "prestamos_records",
      "provenance": []
    },
    "kernelspec": {
      "name": "python3",
      "display_name": "Python 3"
    },
    "language_info": {
      "name": "python"
    }
  },
  "cells": [
    {
      "cell_type": "markdown",
      "metadata": {
        "id": "aK-Y8wFVm8bp"
      },
      "source": [
        "Laura Michel Bolivar\n"
      ]
    },
    {
      "cell_type": "markdown",
      "metadata": {
        "id": "7FSTGqbgm6lk"
      },
      "source": [
        "**Importar csv de Google Drive**"
      ]
    },
    {
      "cell_type": "code",
      "metadata": {
        "colab": {
          "base_uri": "https://localhost:8080/"
        },
        "id": "kW9jh-Gimhrl",
        "outputId": "630257c9-a913-4f42-ba13-2e7fcaa4e6ac"
      },
      "source": [
        "from google.colab import drive\n",
        "drive.mount('/content/drive')"
      ],
      "execution_count": 2,
      "outputs": [
        {
          "output_type": "stream",
          "text": [
            "Mounted at /content/drive\n"
          ],
          "name": "stdout"
        }
      ]
    },
    {
      "cell_type": "markdown",
      "metadata": {
        "id": "AcCot8bqnEyv"
      },
      "source": [
        "**Importar librerías**"
      ]
    },
    {
      "cell_type": "code",
      "metadata": {
        "id": "9S_3bwB6nBko"
      },
      "source": [
        "import pandas as pd\n",
        "import matplotlib.pyplot as plt\n",
        "import numpy as np\n",
        "df =pd.read_csv(\"https://raw.githubusercontent.com/luisFernandoCastellanosG/Machine_learning/master/DataScience/DataSet's/prestamos_records.csv\")"
      ],
      "execution_count": 3,
      "outputs": []
    },
    {
      "cell_type": "markdown",
      "metadata": {
        "id": "sd7OmW3TnqSZ"
      },
      "source": [
        "Verificar Cantidad de datos existentes \n"
      ]
    },
    {
      "cell_type": "code",
      "metadata": {
        "colab": {
          "base_uri": "https://localhost:8080/"
        },
        "id": "ywwo1RtgnJdH",
        "outputId": "5deb51ea-f678-4e30-d691-6ff6b185298d"
      },
      "source": [
        "df.shape"
      ],
      "execution_count": 4,
      "outputs": [
        {
          "output_type": "execute_result",
          "data": {
            "text/plain": [
              "(8000, 7)"
            ]
          },
          "metadata": {
            "tags": []
          },
          "execution_count": 4
        }
      ]
    },
    {
      "cell_type": "markdown",
      "metadata": {
        "id": "zZkaLSNDpogb"
      },
      "source": [
        "Se cambiaron los valores NaN por 0 "
      ]
    },
    {
      "cell_type": "code",
      "metadata": {
        "colab": {
          "base_uri": "https://localhost:8080/"
        },
        "id": "ZPIb25LsnbuI",
        "outputId": "c0970671-d0c5-40e0-c47e-9231a58c4dbb"
      },
      "source": [
        "df_filtrado = df.fillna(0) \n",
        "print(df_filtrado.shape) "
      ],
      "execution_count": 6,
      "outputs": [
        {
          "output_type": "stream",
          "text": [
            "(8000, 7)\n"
          ],
          "name": "stdout"
        }
      ]
    },
    {
      "cell_type": "code",
      "metadata": {
        "id": "rw2XDt45qK7F"
      },
      "source": [
        "df_filtrado.head()"
      ],
      "execution_count": null,
      "outputs": []
    },
    {
      "cell_type": "markdown",
      "metadata": {
        "id": "6j_COUvJqiqc"
      },
      "source": [
        "Se filtraron los datos por MONTO_DEL_PRESTAMO mayor o igual a 2500 , PRESTAMO_INCUMPLIDO sea falso y UBICACION_DE_LA_OFICINA sea SOUTHERN CALIFORNIA"
      ]
    },
    {
      "cell_type": "code",
      "metadata": {
        "id": "JdlO-pi3oNGo"
      },
      "source": [
        "df_filtrado[(df_filtrado['MONTO_DEL_PRESTAMO']>=2500) & (df_filtrado['PRESTAMO_INCUMPLIDO'].str.contains(\"FALSO\") \n",
        "& df_filtrado['UBICACION_DE_LA_OFICINA'].str.contains(\"SOUTHERN CALIFORNIA\"))]"
      ],
      "execution_count": null,
      "outputs": []
    },
    {
      "cell_type": "markdown",
      "metadata": {
        "id": "LfL5-A6WtNtO"
      },
      "source": [
        "Se creo una nueva columna llamada **INTERES_DEL_PRESTAMO**"
      ]
    },
    {
      "cell_type": "code",
      "metadata": {
        "id": "lRKHuChGq97B"
      },
      "source": [
        "import random\n",
        "def interes(MONTO_DEL_PRESTAMO):\n",
        "    interes= MONTO_DEL_PRESTAMO * random.randint(1,3)\n",
        "    return interes\n",
        "df_filtrado[\"INTERES_DEL_PRESTAMO\"] = df_filtrado[\"MONTO_DEL_PRESTAMO\"].apply(interes)\n",
        "df_filtrado.head()"
      ],
      "execution_count": null,
      "outputs": []
    },
    {
      "cell_type": "markdown",
      "metadata": {
        "id": "rJ9_IASivZgy"
      },
      "source": [
        "Se creo la columna Total teniendo en cuenta la columna creada anteriormenete INTERES_DEL_PRESTAMO  menos MONTO_DEL_PRESTAMO"
      ]
    },
    {
      "cell_type": "code",
      "metadata": {
        "id": "8u-ix15yukfT"
      },
      "source": [
        "def total(fila):\n",
        "  resul=fila[\"INTERES_DEL_PRESTAMO\"]-fila['MONTO_DEL_PRESTAMO']\n",
        "  return resul\n",
        "df_filtrado[\"Total\"]= df_filtrado.apply(total, axis=1)\n",
        "df_filtrado.head()"
      ],
      "execution_count": null,
      "outputs": []
    },
    {
      "cell_type": "markdown",
      "metadata": {
        "id": "-Pqwp7KiwqeW"
      },
      "source": [
        "Se asignaron diferentes operaciones a las columnas las cuales se agruparon por UBICACION_DE_LA_OFICINA"
      ]
    },
    {
      "cell_type": "code",
      "metadata": {
        "id": "kQcgCBUPwJm5"
      },
      "source": [
        "grupo =df_filtrado.groupby(\"UBICACION_DE_LA_OFICINA\").agg({\n",
        "    \"MONTO_DEL_PRESTAMO\": 'sum',\n",
        "    \"INTERES_DEL_PRESTAMO\": 'mean',\n",
        "    \"Total\":'max'\n",
        "})\n",
        "grupo.head()"
      ],
      "execution_count": null,
      "outputs": []
    },
    {
      "cell_type": "markdown",
      "metadata": {
        "id": "eoyIC1BXxthA"
      },
      "source": [
        "Se filtraron los datos con la agrupacion de datos realizada anteriormente"
      ]
    },
    {
      "cell_type": "code",
      "metadata": {
        "id": "XutOezOLx3Gl"
      },
      "source": [
        "grupo[grupo[\"MONTO_DEL_PRESTAMO\"]>10612900]"
      ],
      "execution_count": null,
      "outputs": []
    },
    {
      "cell_type": "markdown",
      "metadata": {
        "id": "JcIvkXIo0DpM"
      },
      "source": [
        "**Grafico de Lineas**"
      ]
    },
    {
      "cell_type": "code",
      "metadata": {
        "id": "ust8f0JJyeom"
      },
      "source": [
        "grupo[\"MONTO_DEL_PRESTAMO\"].plot(marker='<', linestyle='--' )\n",
        "plt.ylabel('MONTO_DEL_PRESTAMO')  \n",
        "plt.title ('UBICACION_DE_LA_OFICINA vs MONTO_DEL_PRESTAMO')  \n",
        "plt.show()"
      ],
      "execution_count": null,
      "outputs": []
    },
    {
      "cell_type": "markdown",
      "metadata": {
        "id": "QtRYoa8t0I2k"
      },
      "source": [
        "**Grafico de Barras**"
      ]
    },
    {
      "cell_type": "code",
      "metadata": {
        "id": "LkJg-HYwz-bm"
      },
      "source": [
        "grupo[\"INTERES_DEL_PRESTAMO\"].plot(kind='bar')\n",
        "plt.ylabel('INTERES_DEL_PRESTAMO')   \n",
        "plt.title ('UBICACION_DE_LA_OFICINA vs INTERES_DEL_PRESTAMO')  \n",
        "plt.show()"
      ],
      "execution_count": null,
      "outputs": []
    }
  ]
}