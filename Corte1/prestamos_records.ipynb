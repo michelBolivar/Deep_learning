{
  "nbformat": 4,
  "nbformat_minor": 0,
  "metadata": {
    "colab": {
      "name": "prestamos_records",
      "provenance": []
    },
    "kernelspec": {
      "name": "python3",
      "display_name": "Python 3"
    },
    "language_info": {
      "name": "python"
    }
  },
  "cells": [
    {
      "cell_type": "markdown",
      "metadata": {
        "id": "aK-Y8wFVm8bp"
      },
      "source": [
        "Laura Michel Bolivar\n"
      ]
    },
    {
      "cell_type": "markdown",
      "metadata": {
        "id": "7FSTGqbgm6lk"
      },
      "source": [
        "**Importar csv de Google Drive**"
      ]
    },
    {
      "cell_type": "code",
      "metadata": {
        "colab": {
          "base_uri": "https://localhost:8080/"
        },
        "id": "kW9jh-Gimhrl",
        "outputId": "630257c9-a913-4f42-ba13-2e7fcaa4e6ac"
      },
      "source": [
        "from google.colab import drive\n",
        "drive.mount('/content/drive')"
      ],
      "execution_count": 2,
      "outputs": [
        {
          "output_type": "stream",
          "text": [
            "Mounted at /content/drive\n"
          ],
          "name": "stdout"
        }
      ]
    },
    {
      "cell_type": "markdown",
      "metadata": {
        "id": "AcCot8bqnEyv"
      },
      "source": [
        "**Importar librerías**"
      ]
    },
    {
      "cell_type": "code",
      "metadata": {
        "id": "9S_3bwB6nBko"
      },
      "source": [
        "import pandas as pd\n",
        "import matplotlib.pyplot as plt\n",
        "import numpy as np\n",
        "df =pd.read_csv(\"https://raw.githubusercontent.com/luisFernandoCastellanosG/Machine_learning/master/DataScience/DataSet's/prestamos_records.csv\")"
      ],
      "execution_count": 3,
      "outputs": []
    },
    {
      "cell_type": "markdown",
      "metadata": {
        "id": "sd7OmW3TnqSZ"
      },
      "source": [
        "Verificar Cantidad de datos existentes \n"
      ]
    },
    {
      "cell_type": "code",
      "metadata": {
        "colab": {
          "base_uri": "https://localhost:8080/"
        },
        "id": "ywwo1RtgnJdH",
        "outputId": "5deb51ea-f678-4e30-d691-6ff6b185298d"
      },
      "source": [
        "df.shape"
      ],
      "execution_count": 4,
      "outputs": [
        {
          "output_type": "execute_result",
          "data": {
            "text/plain": [
              "(8000, 7)"
            ]
          },
          "metadata": {
            "tags": []
          },
          "execution_count": 4
        }
      ]
    },
    {
      "cell_type": "markdown",
      "metadata": {
        "id": "zZkaLSNDpogb"
      },
      "source": [
        "Se cambiaron los valores NaN por 0 "
      ]
    },
    {
      "cell_type": "code",
      "metadata": {
        "colab": {
          "base_uri": "https://localhost:8080/"
        },
        "id": "ZPIb25LsnbuI",
        "outputId": "1ec32551-5c6a-4a12-9b83-6af511bedad5"
      },
      "source": [
        "df_filtrado = df.fillna(0) \n",
        "print(df_filtrado.shape) "
      ],
      "execution_count": 76,
      "outputs": [
        {
          "output_type": "stream",
          "text": [
            "(8000, 7)\n"
          ],
          "name": "stdout"
        }
      ]
    },
    {
      "cell_type": "code",
      "metadata": {
        "colab": {
          "base_uri": "https://localhost:8080/",
          "height": 290
        },
        "id": "rw2XDt45qK7F",
        "outputId": "e14eb3c2-bb5d-4cb2-895a-b7464fd710a9"
      },
      "source": [
        "df_filtrado.head()"
      ],
      "execution_count": 82,
      "outputs": [
        {
          "output_type": "execute_result",
          "data": {
            "text/html": [
              "<div>\n",
              "<style scoped>\n",
              "    .dataframe tbody tr th:only-of-type {\n",
              "        vertical-align: middle;\n",
              "    }\n",
              "\n",
              "    .dataframe tbody tr th {\n",
              "        vertical-align: top;\n",
              "    }\n",
              "\n",
              "    .dataframe thead th {\n",
              "        text-align: right;\n",
              "    }\n",
              "</style>\n",
              "<table border=\"1\" class=\"dataframe\">\n",
              "  <thead>\n",
              "    <tr style=\"text-align: right;\">\n",
              "      <th></th>\n",
              "      <th>RECORD_CREATION_DATE</th>\n",
              "      <th>MONTO_DEL_PRESTAMO</th>\n",
              "      <th>RANGO_DEL_CREDITO</th>\n",
              "      <th>DEUDA_EXISTENTE</th>\n",
              "      <th>NOTAS_DEL_AGENTE</th>\n",
              "      <th>UBICACION_DE_LA_OFICINA</th>\n",
              "      <th>PRESTAMO_INCUMPLIDO</th>\n",
              "      <th>INTERES_DEL_PRESTAMO</th>\n",
              "      <th>Total</th>\n",
              "    </tr>\n",
              "  </thead>\n",
              "  <tbody>\n",
              "    <tr>\n",
              "      <th>0</th>\n",
              "      <td>01May2014:09:24:27.000000</td>\n",
              "      <td>2500</td>\n",
              "      <td>760-779</td>\n",
              "      <td>$10,001-$20,000</td>\n",
              "      <td>0</td>\n",
              "      <td>NORTHERN CALIFORNIA</td>\n",
              "      <td>FALSO</td>\n",
              "      <td>2500</td>\n",
              "      <td>0</td>\n",
              "    </tr>\n",
              "    <tr>\n",
              "      <th>1</th>\n",
              "      <td>01May2014:09:48:36.000000</td>\n",
              "      <td>2500</td>\n",
              "      <td>700-719</td>\n",
              "      <td>$1-$10,000</td>\n",
              "      <td>Ingreso anual neto: $25,400</td>\n",
              "      <td>SOUTHERN CALIFORNIA</td>\n",
              "      <td>FALSO</td>\n",
              "      <td>5000</td>\n",
              "      <td>2500</td>\n",
              "    </tr>\n",
              "    <tr>\n",
              "      <th>2</th>\n",
              "      <td>01May2014:10:10:36.000000</td>\n",
              "      <td>6300</td>\n",
              "      <td>740-759</td>\n",
              "      <td>$100,000+</td>\n",
              "      <td>0</td>\n",
              "      <td>ARIZONA</td>\n",
              "      <td>VERDADERO</td>\n",
              "      <td>6300</td>\n",
              "      <td>0</td>\n",
              "    </tr>\n",
              "    <tr>\n",
              "      <th>3</th>\n",
              "      <td>01May2014:10:31:25.000000</td>\n",
              "      <td>4300</td>\n",
              "      <td>780-799</td>\n",
              "      <td>$1-$10,000</td>\n",
              "      <td>Ingreso anual neto: $191,900</td>\n",
              "      <td>SOUTHERN CALIFORNIA</td>\n",
              "      <td>FALSO</td>\n",
              "      <td>4300</td>\n",
              "      <td>0</td>\n",
              "    </tr>\n",
              "    <tr>\n",
              "      <th>4</th>\n",
              "      <td>01May2014:10:46:54.000000</td>\n",
              "      <td>20100</td>\n",
              "      <td>780-799</td>\n",
              "      <td>$90,001-$100,000</td>\n",
              "      <td>Pagos mensuales de deuda verificados: $1,700</td>\n",
              "      <td>SOUTHERN CALIFORNIA</td>\n",
              "      <td>VERDADERO</td>\n",
              "      <td>20100</td>\n",
              "      <td>0</td>\n",
              "    </tr>\n",
              "  </tbody>\n",
              "</table>\n",
              "</div>"
            ],
            "text/plain": [
              "        RECORD_CREATION_DATE  MONTO_DEL_PRESTAMO  ... INTERES_DEL_PRESTAMO Total\n",
              "0  01May2014:09:24:27.000000                2500  ...                 2500     0\n",
              "1  01May2014:09:48:36.000000                2500  ...                 5000  2500\n",
              "2  01May2014:10:10:36.000000                6300  ...                 6300     0\n",
              "3  01May2014:10:31:25.000000                4300  ...                 4300     0\n",
              "4  01May2014:10:46:54.000000               20100  ...                20100     0\n",
              "\n",
              "[5 rows x 9 columns]"
            ]
          },
          "metadata": {
            "tags": []
          },
          "execution_count": 82
        }
      ]
    },
    {
      "cell_type": "code",
      "metadata": {
        "colab": {
          "base_uri": "https://localhost:8080/",
          "height": 280
        },
        "id": "Fqx6b2G67R12",
        "outputId": "c11e49d0-8c04-4577-fb3f-aac6f375b9ea"
      },
      "source": [
        "df_filtrado.plot(kind=\"scatter\" , x=\"INTERES_DEL_PRESTAMO\", y=\"RANGO_DEL_CREDITO\")\n",
        "plt.show() "
      ],
      "execution_count": 93,
      "outputs": [
        {
          "output_type": "display_data",
          "data": {
            "image/png": "[encoded data removed]",
            "text/plain": [
              "<Figure size 432x288 with 1 Axes>"
            ]
          },
          "metadata": {
            "tags": [],
            "needs_background": "light"
          }
        }
      ]
    },
    {
      "cell_type": "markdown",
      "metadata": {
        "id": "6j_COUvJqiqc"
      },
      "source": [
        "Se filtraron los datos por MONTO_DEL_PRESTAMO mayor o igual a 2500 , PRESTAMO_INCUMPLIDO sea falso y UBICACION_DE_LA_OFICINA sea SOUTHERN CALIFORNIA"
      ]
    },
    {
      "cell_type": "code",
      "metadata": {
        "colab": {
          "base_uri": "https://localhost:8080/",
          "height": 554
        },
        "id": "JdlO-pi3oNGo",
        "outputId": "6645440e-2feb-4dd7-d61a-60c08e542a2d"
      },
      "source": [
        "df_filtrado[(df_filtrado['MONTO_DEL_PRESTAMO']>=2500) & (df_filtrado['PRESTAMO_INCUMPLIDO'].str.contains(\"FALSO\") \n",
        "& df_filtrado['UBICACION_DE_LA_OFICINA'].str.contains(\"SOUTHERN CALIFORNIA\"))]"
      ],
      "execution_count": 94,
      "outputs": [
        {
          "output_type": "execute_result",
          "data": {
            "text/html": [
              "<div>\n",
              "<style scoped>\n",
              "    .dataframe tbody tr th:only-of-type {\n",
              "        vertical-align: middle;\n",
              "    }\n",
              "\n",
              "    .dataframe tbody tr th {\n",
              "        vertical-align: top;\n",
              "    }\n",
              "\n",
              "    .dataframe thead th {\n",
              "        text-align: right;\n",
              "    }\n",
              "</style>\n",
              "<table border=\"1\" class=\"dataframe\">\n",
              "  <thead>\n",
              "    <tr style=\"text-align: right;\">\n",
              "      <th></th>\n",
              "      <th>RECORD_CREATION_DATE</th>\n",
              "      <th>MONTO_DEL_PRESTAMO</th>\n",
              "      <th>RANGO_DEL_CREDITO</th>\n",
              "      <th>DEUDA_EXISTENTE</th>\n",
              "      <th>NOTAS_DEL_AGENTE</th>\n",
              "      <th>UBICACION_DE_LA_OFICINA</th>\n",
              "      <th>PRESTAMO_INCUMPLIDO</th>\n",
              "      <th>INTERES_DEL_PRESTAMO</th>\n",
              "      <th>Total</th>\n",
              "    </tr>\n",
              "  </thead>\n",
              "  <tbody>\n",
              "    <tr>\n",
              "      <th>1</th>\n",
              "      <td>01May2014:09:48:36.000000</td>\n",
              "      <td>2500</td>\n",
              "      <td>700-719</td>\n",
              "      <td>$1-$10,000</td>\n",
              "      <td>Ingreso anual neto: $25,400</td>\n",
              "      <td>SOUTHERN CALIFORNIA</td>\n",
              "      <td>FALSO</td>\n",
              "      <td>5000</td>\n",
              "      <td>2500</td>\n",
              "    </tr>\n",
              "    <tr>\n",
              "      <th>3</th>\n",
              "      <td>01May2014:10:31:25.000000</td>\n",
              "      <td>4300</td>\n",
              "      <td>780-799</td>\n",
              "      <td>$1-$10,000</td>\n",
              "      <td>Ingreso anual neto: $191,900</td>\n",
              "      <td>SOUTHERN CALIFORNIA</td>\n",
              "      <td>FALSO</td>\n",
              "      <td>4300</td>\n",
              "      <td>0</td>\n",
              "    </tr>\n",
              "    <tr>\n",
              "      <th>7</th>\n",
              "      <td>01May2014:11:53:24.000000</td>\n",
              "      <td>10000</td>\n",
              "      <td>760-779</td>\n",
              "      <td>$20,001-$30,000</td>\n",
              "      <td>0</td>\n",
              "      <td>SOUTHERN CALIFORNIA</td>\n",
              "      <td>FALSO</td>\n",
              "      <td>20000</td>\n",
              "      <td>10000</td>\n",
              "    </tr>\n",
              "    <tr>\n",
              "      <th>10</th>\n",
              "      <td>01May2014:12:52:26.000000</td>\n",
              "      <td>13000</td>\n",
              "      <td>720-739</td>\n",
              "      <td>$10,001-$20,000</td>\n",
              "      <td>0</td>\n",
              "      <td>SOUTHERN CALIFORNIA</td>\n",
              "      <td>FALSO</td>\n",
              "      <td>13000</td>\n",
              "      <td>0</td>\n",
              "    </tr>\n",
              "    <tr>\n",
              "      <th>14</th>\n",
              "      <td>01May2014:13:57:11.000000</td>\n",
              "      <td>5900</td>\n",
              "      <td>780-799</td>\n",
              "      <td>$20,001-$30,000</td>\n",
              "      <td>0</td>\n",
              "      <td>SOUTHERN CALIFORNIA</td>\n",
              "      <td>FALSO</td>\n",
              "      <td>17700</td>\n",
              "      <td>11800</td>\n",
              "    </tr>\n",
              "    <tr>\n",
              "      <th>...</th>\n",
              "      <td>...</td>\n",
              "      <td>...</td>\n",
              "      <td>...</td>\n",
              "      <td>...</td>\n",
              "      <td>...</td>\n",
              "      <td>...</td>\n",
              "      <td>...</td>\n",
              "      <td>...</td>\n",
              "      <td>...</td>\n",
              "    </tr>\n",
              "    <tr>\n",
              "      <th>7946</th>\n",
              "      <td>06May2015:10:46:30.000000</td>\n",
              "      <td>5500</td>\n",
              "      <td>780-799</td>\n",
              "      <td>0</td>\n",
              "      <td>Ingreso anual neto: $48,300</td>\n",
              "      <td>SOUTHERN CALIFORNIA</td>\n",
              "      <td>FALSO</td>\n",
              "      <td>16500</td>\n",
              "      <td>11000</td>\n",
              "    </tr>\n",
              "    <tr>\n",
              "      <th>7957</th>\n",
              "      <td>06May2015:14:32:30.000000</td>\n",
              "      <td>6700</td>\n",
              "      <td>760-779</td>\n",
              "      <td>$100,000+</td>\n",
              "      <td>0</td>\n",
              "      <td>SOUTHERN CALIFORNIA</td>\n",
              "      <td>FALSO</td>\n",
              "      <td>6700</td>\n",
              "      <td>0</td>\n",
              "    </tr>\n",
              "    <tr>\n",
              "      <th>7969</th>\n",
              "      <td>06May2015:18:25:17.000000</td>\n",
              "      <td>3200</td>\n",
              "      <td>740-759</td>\n",
              "      <td>0</td>\n",
              "      <td>El cliente no tiene deuda</td>\n",
              "      <td>SOUTHERN CALIFORNIA</td>\n",
              "      <td>FALSO</td>\n",
              "      <td>6400</td>\n",
              "      <td>3200</td>\n",
              "    </tr>\n",
              "    <tr>\n",
              "      <th>7995</th>\n",
              "      <td>07May2015:16:04:54.000000</td>\n",
              "      <td>3500</td>\n",
              "      <td>700-719</td>\n",
              "      <td>0</td>\n",
              "      <td>El cliente no tiene deuda...Ingreso anual neto...</td>\n",
              "      <td>SOUTHERN CALIFORNIA</td>\n",
              "      <td>FALSO</td>\n",
              "      <td>7000</td>\n",
              "      <td>3500</td>\n",
              "    </tr>\n",
              "    <tr>\n",
              "      <th>7997</th>\n",
              "      <td>07May2015:17:04:07.000000</td>\n",
              "      <td>2500</td>\n",
              "      <td>780-799</td>\n",
              "      <td>$10,001-$20,000</td>\n",
              "      <td>Ingreso mensual neto 2,870</td>\n",
              "      <td>SOUTHERN CALIFORNIA</td>\n",
              "      <td>FALSO</td>\n",
              "      <td>2500</td>\n",
              "      <td>0</td>\n",
              "    </tr>\n",
              "  </tbody>\n",
              "</table>\n",
              "<p>1764 rows × 9 columns</p>\n",
              "</div>"
            ],
            "text/plain": [
              "           RECORD_CREATION_DATE  ...  Total\n",
              "1     01May2014:09:48:36.000000  ...   2500\n",
              "3     01May2014:10:31:25.000000  ...      0\n",
              "7     01May2014:11:53:24.000000  ...  10000\n",
              "10    01May2014:12:52:26.000000  ...      0\n",
              "14    01May2014:13:57:11.000000  ...  11800\n",
              "...                         ...  ...    ...\n",
              "7946  06May2015:10:46:30.000000  ...  11000\n",
              "7957  06May2015:14:32:30.000000  ...      0\n",
              "7969  06May2015:18:25:17.000000  ...   3200\n",
              "7995  07May2015:16:04:54.000000  ...   3500\n",
              "7997  07May2015:17:04:07.000000  ...      0\n",
              "\n",
              "[1764 rows x 9 columns]"
            ]
          },
          "metadata": {
            "tags": []
          },
          "execution_count": 94
        }
      ]
    },
    {
      "cell_type": "markdown",
      "metadata": {
        "id": "LfL5-A6WtNtO"
      },
      "source": [
        "Se creo una nueva columna llamada **INTERES_DEL_PRESTAMO**"
      ]
    },
    {
      "cell_type": "code",
      "metadata": {
        "colab": {
          "base_uri": "https://localhost:8080/",
          "height": 290
        },
        "id": "lRKHuChGq97B",
        "outputId": "83779476-b38b-496e-de29-cfb6e3db92bb"
      },
      "source": [
        "import random\n",
        "def interes(MONTO_DEL_PRESTAMO):\n",
        "    interes= MONTO_DEL_PRESTAMO * random.randint(1,3)\n",
        "    return interes\n",
        "df_filtrado[\"INTERES_DEL_PRESTAMO\"] = df_filtrado[\"MONTO_DEL_PRESTAMO\"].apply(interes)\n",
        "df_filtrado.head()"
      ],
      "execution_count": 78,
      "outputs": [
        {
          "output_type": "execute_result",
          "data": {
            "text/html": [
              "<div>\n",
              "<style scoped>\n",
              "    .dataframe tbody tr th:only-of-type {\n",
              "        vertical-align: middle;\n",
              "    }\n",
              "\n",
              "    .dataframe tbody tr th {\n",
              "        vertical-align: top;\n",
              "    }\n",
              "\n",
              "    .dataframe thead th {\n",
              "        text-align: right;\n",
              "    }\n",
              "</style>\n",
              "<table border=\"1\" class=\"dataframe\">\n",
              "  <thead>\n",
              "    <tr style=\"text-align: right;\">\n",
              "      <th></th>\n",
              "      <th>RECORD_CREATION_DATE</th>\n",
              "      <th>MONTO_DEL_PRESTAMO</th>\n",
              "      <th>RANGO_DEL_CREDITO</th>\n",
              "      <th>DEUDA_EXISTENTE</th>\n",
              "      <th>NOTAS_DEL_AGENTE</th>\n",
              "      <th>UBICACION_DE_LA_OFICINA</th>\n",
              "      <th>PRESTAMO_INCUMPLIDO</th>\n",
              "      <th>INTERES_DEL_PRESTAMO</th>\n",
              "    </tr>\n",
              "  </thead>\n",
              "  <tbody>\n",
              "    <tr>\n",
              "      <th>0</th>\n",
              "      <td>01May2014:09:24:27.000000</td>\n",
              "      <td>2500</td>\n",
              "      <td>760-779</td>\n",
              "      <td>$10,001-$20,000</td>\n",
              "      <td>0</td>\n",
              "      <td>NORTHERN CALIFORNIA</td>\n",
              "      <td>FALSO</td>\n",
              "      <td>2500</td>\n",
              "    </tr>\n",
              "    <tr>\n",
              "      <th>1</th>\n",
              "      <td>01May2014:09:48:36.000000</td>\n",
              "      <td>2500</td>\n",
              "      <td>700-719</td>\n",
              "      <td>$1-$10,000</td>\n",
              "      <td>Ingreso anual neto: $25,400</td>\n",
              "      <td>SOUTHERN CALIFORNIA</td>\n",
              "      <td>FALSO</td>\n",
              "      <td>5000</td>\n",
              "    </tr>\n",
              "    <tr>\n",
              "      <th>2</th>\n",
              "      <td>01May2014:10:10:36.000000</td>\n",
              "      <td>6300</td>\n",
              "      <td>740-759</td>\n",
              "      <td>$100,000+</td>\n",
              "      <td>0</td>\n",
              "      <td>ARIZONA</td>\n",
              "      <td>VERDADERO</td>\n",
              "      <td>6300</td>\n",
              "    </tr>\n",
              "    <tr>\n",
              "      <th>3</th>\n",
              "      <td>01May2014:10:31:25.000000</td>\n",
              "      <td>4300</td>\n",
              "      <td>780-799</td>\n",
              "      <td>$1-$10,000</td>\n",
              "      <td>Ingreso anual neto: $191,900</td>\n",
              "      <td>SOUTHERN CALIFORNIA</td>\n",
              "      <td>FALSO</td>\n",
              "      <td>4300</td>\n",
              "    </tr>\n",
              "    <tr>\n",
              "      <th>4</th>\n",
              "      <td>01May2014:10:46:54.000000</td>\n",
              "      <td>20100</td>\n",
              "      <td>780-799</td>\n",
              "      <td>$90,001-$100,000</td>\n",
              "      <td>Pagos mensuales de deuda verificados: $1,700</td>\n",
              "      <td>SOUTHERN CALIFORNIA</td>\n",
              "      <td>VERDADERO</td>\n",
              "      <td>20100</td>\n",
              "    </tr>\n",
              "  </tbody>\n",
              "</table>\n",
              "</div>"
            ],
            "text/plain": [
              "        RECORD_CREATION_DATE  ...  INTERES_DEL_PRESTAMO\n",
              "0  01May2014:09:24:27.000000  ...                  2500\n",
              "1  01May2014:09:48:36.000000  ...                  5000\n",
              "2  01May2014:10:10:36.000000  ...                  6300\n",
              "3  01May2014:10:31:25.000000  ...                  4300\n",
              "4  01May2014:10:46:54.000000  ...                 20100\n",
              "\n",
              "[5 rows x 8 columns]"
            ]
          },
          "metadata": {
            "tags": []
          },
          "execution_count": 78
        }
      ]
    },
    {
      "cell_type": "markdown",
      "metadata": {
        "id": "rJ9_IASivZgy"
      },
      "source": [
        "Se creo la columna Total teniendo en cuenta la columna creada anteriormenete INTERES_DEL_PRESTAMO  menos MONTO_DEL_PRESTAMO"
      ]
    },
    {
      "cell_type": "code",
      "metadata": {
        "id": "8u-ix15yukfT"
      },
      "source": [
        "def total(fila):\n",
        "  resul=fila[\"INTERES_DEL_PRESTAMO\"]-fila['MONTO_DEL_PRESTAMO']\n",
        "  return resul\n",
        "df_filtrado[\"Total\"]= df_filtrado.apply(total, axis=1)\n",
        "df_filtrado.head()"
      ],
      "execution_count": null,
      "outputs": []
    },
    {
      "cell_type": "markdown",
      "metadata": {
        "id": "-Pqwp7KiwqeW"
      },
      "source": [
        "Se asignaron diferentes operaciones a las columnas las cuales se agruparon por UBICACION_DE_LA_OFICINA"
      ]
    },
    {
      "cell_type": "code",
      "metadata": {
        "colab": {
          "base_uri": "https://localhost:8080/",
          "height": 234
        },
        "id": "kQcgCBUPwJm5",
        "outputId": "e8ceb90c-0c84-4883-a452-b360023f39d3"
      },
      "source": [
        "grupo =df_filtrado.groupby(\"UBICACION_DE_LA_OFICINA\").agg({\n",
        "    \"MONTO_DEL_PRESTAMO\": 'sum',\n",
        "    \"INTERES_DEL_PRESTAMO\": 'mean',\n",
        "    \"Total\":'max'\n",
        "})\n",
        "grupo.head()"
      ],
      "execution_count": 89,
      "outputs": [
        {
          "output_type": "execute_result",
          "data": {
            "text/html": [
              "<div>\n",
              "<style scoped>\n",
              "    .dataframe tbody tr th:only-of-type {\n",
              "        vertical-align: middle;\n",
              "    }\n",
              "\n",
              "    .dataframe tbody tr th {\n",
              "        vertical-align: top;\n",
              "    }\n",
              "\n",
              "    .dataframe thead th {\n",
              "        text-align: right;\n",
              "    }\n",
              "</style>\n",
              "<table border=\"1\" class=\"dataframe\">\n",
              "  <thead>\n",
              "    <tr style=\"text-align: right;\">\n",
              "      <th></th>\n",
              "      <th>MONTO_DEL_PRESTAMO</th>\n",
              "      <th>INTERES_DEL_PRESTAMO</th>\n",
              "      <th>Total</th>\n",
              "    </tr>\n",
              "    <tr>\n",
              "      <th>UBICACION_DE_LA_OFICINA</th>\n",
              "      <th></th>\n",
              "      <th></th>\n",
              "      <th></th>\n",
              "    </tr>\n",
              "  </thead>\n",
              "  <tbody>\n",
              "    <tr>\n",
              "      <th>ARIZONA</th>\n",
              "      <td>10612900</td>\n",
              "      <td>13073.719926</td>\n",
              "      <td>70000</td>\n",
              "    </tr>\n",
              "    <tr>\n",
              "      <th>NEVADA</th>\n",
              "      <td>6758500</td>\n",
              "      <td>13121.366699</td>\n",
              "      <td>70000</td>\n",
              "    </tr>\n",
              "    <tr>\n",
              "      <th>NORTHERN CALIFORNIA</th>\n",
              "      <td>11324600</td>\n",
              "      <td>13221.049563</td>\n",
              "      <td>70000</td>\n",
              "    </tr>\n",
              "    <tr>\n",
              "      <th>OREGON</th>\n",
              "      <td>4713900</td>\n",
              "      <td>12370.198675</td>\n",
              "      <td>70000</td>\n",
              "    </tr>\n",
              "    <tr>\n",
              "      <th>SOUTHERN CALIFORNIA</th>\n",
              "      <td>13573600</td>\n",
              "      <td>12875.811069</td>\n",
              "      <td>70000</td>\n",
              "    </tr>\n",
              "  </tbody>\n",
              "</table>\n",
              "</div>"
            ],
            "text/plain": [
              "                         MONTO_DEL_PRESTAMO  INTERES_DEL_PRESTAMO  Total\n",
              "UBICACION_DE_LA_OFICINA                                                 \n",
              "ARIZONA                            10612900          13073.719926  70000\n",
              "NEVADA                              6758500          13121.366699  70000\n",
              "NORTHERN CALIFORNIA                11324600          13221.049563  70000\n",
              "OREGON                              4713900          12370.198675  70000\n",
              "SOUTHERN CALIFORNIA                13573600          12875.811069  70000"
            ]
          },
          "metadata": {
            "tags": []
          },
          "execution_count": 89
        }
      ]
    },
    {
      "cell_type": "markdown",
      "metadata": {
        "id": "eoyIC1BXxthA"
      },
      "source": [
        "Se filtraron los datos con la agrupacion de datos realizada anteriormente"
      ]
    },
    {
      "cell_type": "code",
      "metadata": {
        "colab": {
          "base_uri": "https://localhost:8080/",
          "height": 142
        },
        "id": "XutOezOLx3Gl",
        "outputId": "ef0ff44c-befe-44a9-aa11-efa67ddb19a0"
      },
      "source": [
        "grupo[grupo[\"MONTO_DEL_PRESTAMO\"]>10612900]"
      ],
      "execution_count": 95,
      "outputs": [
        {
          "output_type": "execute_result",
          "data": {
            "text/html": [
              "<div>\n",
              "<style scoped>\n",
              "    .dataframe tbody tr th:only-of-type {\n",
              "        vertical-align: middle;\n",
              "    }\n",
              "\n",
              "    .dataframe tbody tr th {\n",
              "        vertical-align: top;\n",
              "    }\n",
              "\n",
              "    .dataframe thead th {\n",
              "        text-align: right;\n",
              "    }\n",
              "</style>\n",
              "<table border=\"1\" class=\"dataframe\">\n",
              "  <thead>\n",
              "    <tr style=\"text-align: right;\">\n",
              "      <th></th>\n",
              "      <th>MONTO_DEL_PRESTAMO</th>\n",
              "      <th>INTERES_DEL_PRESTAMO</th>\n",
              "      <th>Total</th>\n",
              "    </tr>\n",
              "    <tr>\n",
              "      <th>UBICACION_DE_LA_OFICINA</th>\n",
              "      <th></th>\n",
              "      <th></th>\n",
              "      <th></th>\n",
              "    </tr>\n",
              "  </thead>\n",
              "  <tbody>\n",
              "    <tr>\n",
              "      <th>NORTHERN CALIFORNIA</th>\n",
              "      <td>11324600</td>\n",
              "      <td>13221.049563</td>\n",
              "      <td>70000</td>\n",
              "    </tr>\n",
              "    <tr>\n",
              "      <th>SOUTHERN CALIFORNIA</th>\n",
              "      <td>13573600</td>\n",
              "      <td>12875.811069</td>\n",
              "      <td>70000</td>\n",
              "    </tr>\n",
              "  </tbody>\n",
              "</table>\n",
              "</div>"
            ],
            "text/plain": [
              "                         MONTO_DEL_PRESTAMO  INTERES_DEL_PRESTAMO  Total\n",
              "UBICACION_DE_LA_OFICINA                                                 \n",
              "NORTHERN CALIFORNIA                11324600          13221.049563  70000\n",
              "SOUTHERN CALIFORNIA                13573600          12875.811069  70000"
            ]
          },
          "metadata": {
            "tags": []
          },
          "execution_count": 95
        }
      ]
    },
    {
      "cell_type": "markdown",
      "metadata": {
        "id": "JcIvkXIo0DpM"
      },
      "source": [
        "**Grafico de Lineas**"
      ]
    },
    {
      "cell_type": "code",
      "metadata": {
        "colab": {
          "base_uri": "https://localhost:8080/",
          "height": 296
        },
        "id": "ust8f0JJyeom",
        "outputId": "a7eecdce-9460-4a33-97aa-2389b2137ee5"
      },
      "source": [
        "grupo[\"MONTO_DEL_PRESTAMO\"].plot(marker='<', linestyle='--' )\n",
        "plt.ylabel('MONTO_DEL_PRESTAMO')  \n",
        "plt.title ('UBICACION_DE_LA_OFICINA vs MONTO_DEL_PRESTAMO')  \n",
        "plt.show()"
      ],
      "execution_count": 81,
      "outputs": [
        {
          "output_type": "display_data",
          "data": {
            "image/png": "[encoded data removed]",
            "text/plain": [
              "<Figure size 432x288 with 1 Axes>"
            ]
          },
          "metadata": {
            "tags": [],
            "needs_background": "light"
          }
        }
      ]
    },
    {
      "cell_type": "markdown",
      "metadata": {
        "id": "QtRYoa8t0I2k"
      },
      "source": [
        "**Grafico de Barras**"
      ]
    },
    {
      "cell_type": "code",
      "metadata": {
        "colab": {
          "base_uri": "https://localhost:8080/",
          "height": 405
        },
        "id": "LkJg-HYwz-bm",
        "outputId": "1dff8db5-acab-4a94-d844-f3b736edee42"
      },
      "source": [
        "grupo[\"INTERES_DEL_PRESTAMO\"].plot(kind='bar')\n",
        "plt.ylabel('INTERES_DEL_PRESTAMO')   \n",
        "plt.title ('UBICACION_DE_LA_OFICINA vs INTERES_DEL_PRESTAMO')  \n",
        "plt.show()"
      ],
      "execution_count": 74,
      "outputs": [
        {
          "output_type": "display_data",
          "data": {
            "image/png": "[encoded data removed]",
            "text/plain": [
              "<Figure size 432x288 with 1 Axes>"
            ]
          },
          "metadata": {
            "tags": [],
            "needs_background": "light"
          }
        }
      ]
    }
  ]
}