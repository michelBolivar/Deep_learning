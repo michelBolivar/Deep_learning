{
  "nbformat": 4,
  "nbformat_minor": 0,
  "metadata": {
    "colab": {
      "name": "user_timestamp",
      "provenance": [],
      "collapsed_sections": []
    },
    "kernelspec": {
      "display_name": "Python 3",
      "name": "python3"
    },
    "language_info": {
      "name": "python"
    }
  },
  "cells": [
    {
      "cell_type": "markdown",
      "metadata": {
        "id": "z65RfmogRQoH"
      },
      "source": [
        "Laura Michel Bolivar\n"
      ]
    },
    {
      "cell_type": "markdown",
      "metadata": {
        "id": "CnpRi5E9Rdlt"
      },
      "source": [
        "**Importar csv de Google Drive**"
      ]
    },
    {
      "cell_type": "code",
      "metadata": {
        "id": "07qi_Vwm2RMH",
        "colab": {
          "base_uri": "https://localhost:8080/"
        },
        "outputId": "ee964947-fa79-4fba-aeea-9f0c91f22c31"
      },
      "source": [
        "from google.colab import drive\n",
        "drive.mount('/content/drive')"
      ],
      "execution_count": 2,
      "outputs": [
        {
          "output_type": "stream",
          "text": [
            "Drive already mounted at /content/drive; to attempt to forcibly remount, call drive.mount(\"/content/drive\", force_remount=True).\n"
          ],
          "name": "stdout"
        }
      ]
    },
    {
      "cell_type": "markdown",
      "metadata": {
        "id": "ZGrizgZaRig7"
      },
      "source": [
        "**Importar librerías**"
      ]
    },
    {
      "cell_type": "code",
      "metadata": {
        "id": "HT8tPlb48_DF"
      },
      "source": [
        "import pandas as pd\n",
        "import matplotlib.pyplot as plt\n",
        "import numpy as np\n",
        "df =pd.read_csv(\"https://raw.githubusercontent.com/luisFernandoCastellanosG/Machine_learning/master/DataScience/DataSet's/user_timestamp.csv\")\n"
      ],
      "execution_count": 3,
      "outputs": []
    },
    {
      "cell_type": "markdown",
      "metadata": {
        "id": "hq8C7_ECZfDJ"
      },
      "source": [
        "Verificar datos existentes "
      ]
    },
    {
      "cell_type": "code",
      "metadata": {
        "colab": {
          "base_uri": "https://localhost:8080/"
        },
        "id": "YDpD2vxMZn3I",
        "outputId": "4f027300-4f9d-443a-da9e-e20b89ac0124"
      },
      "source": [
        "df.shape"
      ],
      "execution_count": 4,
      "outputs": [
        {
          "output_type": "execute_result",
          "data": {
            "text/plain": [
              "(71996, 2)"
            ]
          },
          "metadata": {
            "tags": []
          },
          "execution_count": 4
        }
      ]
    },
    {
      "cell_type": "markdown",
      "metadata": {
        "id": "bttfu2tuRpCT"
      },
      "source": [
        "Eliminar datos nulos \n"
      ]
    },
    {
      "cell_type": "code",
      "metadata": {
        "colab": {
          "base_uri": "https://localhost:8080/"
        },
        "id": "Vf7sYQh1APBp",
        "outputId": "8c03cae6-857c-4e2d-8cc6-71fa724afa1a"
      },
      "source": [
        "df_filtrado = df.dropna()  #Filtrar todos los datos que tengan valor NaN \n",
        "print(df_filtrado.shape) "
      ],
      "execution_count": 5,
      "outputs": [
        {
          "output_type": "stream",
          "text": [
            "(61582, 2)\n"
          ],
          "name": "stdout"
        }
      ]
    },
    {
      "cell_type": "code",
      "metadata": {
        "colab": {
          "base_uri": "https://localhost:8080/"
        },
        "id": "a3rSYzBe1bNa",
        "outputId": "4412ff9f-3558-4ea7-ebe4-f677a7da0636"
      },
      "source": [
        "df_filtrado['user_id'].max()"
      ],
      "execution_count": 21,
      "outputs": [
        {
          "output_type": "execute_result",
          "data": {
            "text/plain": [
              "1014.0"
            ]
          },
          "metadata": {
            "tags": []
          },
          "execution_count": 21
        }
      ]
    },
    {
      "cell_type": "code",
      "metadata": {
        "colab": {
          "base_uri": "https://localhost:8080/",
          "height": 265
        },
        "id": "yAapylmyFZx4",
        "outputId": "99dcf0aa-63e8-40e1-e7b5-fd986a2c192d"
      },
      "source": [
        "time=df_filtrado[df_filtrado['timestamp']>'23:43:33']\n",
        "time.plot()\n",
        "plt.show()"
      ],
      "execution_count": 16,
      "outputs": [
        {
          "output_type": "display_data",
          "data": {
            "image/png": "[encoded data removed]",
            "text/plain": [
              "<Figure size 432x288 with 1 Axes>"
            ]
          },
          "metadata": {
            "tags": [],
            "needs_background": "light"
          }
        }
      ]
    },
    {
      "cell_type": "code",
      "metadata": {
        "colab": {
          "base_uri": "https://localhost:8080/",
          "height": 265
        },
        "id": "S-6GUor81HyO",
        "outputId": "d2f2d1d0-4bbb-439e-b24c-c86a1cec956e"
      },
      "source": [
        "us=df_filtrado[df_filtrado['user_id']>900]\n",
        "us.plot()\n",
        "plt.show()"
      ],
      "execution_count": 23,
      "outputs": [
        {
          "output_type": "display_data",
          "data": {
            "image/png": "[encoded data removed]",
            "text/plain": [
              "<Figure size 432x288 with 1 Axes>"
            ]
          },
          "metadata": {
            "tags": [],
            "needs_background": "light"
          }
        }
      ]
    },
    {
      "cell_type": "code",
      "metadata": {
        "colab": {
          "base_uri": "https://localhost:8080/",
          "height": 299
        },
        "id": "LOhF4UVq16FI",
        "outputId": "594b50db-f8d4-4e26-a8d5-9e3f508009f6"
      },
      "source": [
        "df_filtrado[(df_filtrado['user_id']>=10) & (df_filtrado['timestamp'].str.contains(\"23:15:04\"))]"
      ],
      "execution_count": 29,
      "outputs": [
        {
          "output_type": "execute_result",
          "data": {
            "text/html": [
              "<div>\n",
              "<style scoped>\n",
              "    .dataframe tbody tr th:only-of-type {\n",
              "        vertical-align: middle;\n",
              "    }\n",
              "\n",
              "    .dataframe tbody tr th {\n",
              "        vertical-align: top;\n",
              "    }\n",
              "\n",
              "    .dataframe thead th {\n",
              "        text-align: right;\n",
              "    }\n",
              "</style>\n",
              "<table border=\"1\" class=\"dataframe\">\n",
              "  <thead>\n",
              "    <tr style=\"text-align: right;\">\n",
              "      <th></th>\n",
              "      <th>user_id</th>\n",
              "      <th>timestamp</th>\n",
              "    </tr>\n",
              "  </thead>\n",
              "  <tbody>\n",
              "    <tr>\n",
              "      <th>10031</th>\n",
              "      <td>431.0</td>\n",
              "      <td>23:15:04</td>\n",
              "    </tr>\n",
              "    <tr>\n",
              "      <th>20109</th>\n",
              "      <td>431.0</td>\n",
              "      <td>23:15:04</td>\n",
              "    </tr>\n",
              "    <tr>\n",
              "      <th>30197</th>\n",
              "      <td>431.0</td>\n",
              "      <td>23:15:04</td>\n",
              "    </tr>\n",
              "    <tr>\n",
              "      <th>40787</th>\n",
              "      <td>431.0</td>\n",
              "      <td>23:15:04</td>\n",
              "    </tr>\n",
              "    <tr>\n",
              "      <th>51225</th>\n",
              "      <td>431.0</td>\n",
              "      <td>23:15:04</td>\n",
              "    </tr>\n",
              "    <tr>\n",
              "      <th>61281</th>\n",
              "      <td>168.0</td>\n",
              "      <td>23:15:04</td>\n",
              "    </tr>\n",
              "    <tr>\n",
              "      <th>61282</th>\n",
              "      <td>621.0</td>\n",
              "      <td>23:15:04</td>\n",
              "    </tr>\n",
              "    <tr>\n",
              "      <th>61283</th>\n",
              "      <td>431.0</td>\n",
              "      <td>23:15:04</td>\n",
              "    </tr>\n",
              "  </tbody>\n",
              "</table>\n",
              "</div>"
            ],
            "text/plain": [
              "       user_id timestamp\n",
              "10031    431.0  23:15:04\n",
              "20109    431.0  23:15:04\n",
              "30197    431.0  23:15:04\n",
              "40787    431.0  23:15:04\n",
              "51225    431.0  23:15:04\n",
              "61281    168.0  23:15:04\n",
              "61282    621.0  23:15:04\n",
              "61283    431.0  23:15:04"
            ]
          },
          "metadata": {
            "tags": []
          },
          "execution_count": 29
        }
      ]
    },
    {
      "cell_type": "code",
      "metadata": {
        "colab": {
          "base_uri": "https://localhost:8080/",
          "height": 513
        },
        "id": "AwaYCNHd3J_D",
        "outputId": "9550c371-33b3-4a4f-e208-d8d5905c8aa5"
      },
      "source": [
        "total=df_filtrado['timestamp'].value_counts()\n",
        "print(total)\n",
        "total.plot( linestyle='--', color='r')\n",
        "plt.ylabel('N. veces')\n",
        "plt.xlabel('Tiempo')\n",
        "plt.title ('Tiempo más repetido')\n",
        "plt.show()"
      ],
      "execution_count": 47,
      "outputs": [
        {
          "output_type": "stream",
          "text": [
            "23:15:04    8\n",
            "4:54:47     8\n",
            "4:30:53     8\n",
            "12:06:38    8\n",
            "22:22:02    8\n",
            "           ..\n",
            "1:25:34     1\n",
            "22:28:10    1\n",
            "16:28:03    1\n",
            "8:50:04     1\n",
            "1:33:33     1\n",
            "Name: timestamp, Length: 43697, dtype: int64\n"
          ],
          "name": "stdout"
        },
        {
          "output_type": "display_data",
          "data": {
            "image/png": "[encoded data removed]",
            "text/plain": [
              "<Figure size 432x288 with 1 Axes>"
            ]
          },
          "metadata": {
            "tags": [],
            "needs_background": "light"
          }
        }
      ]
    },
    {
      "cell_type": "code",
      "metadata": {
        "id": "MSZbrTuf7GSW"
      },
      "source": [
        "y=df_filtrado['timestamp'].value_counts()\n",
        "y.plot(kind=\"bar\")\n",
        "plt.show()"
      ],
      "execution_count": null,
      "outputs": []
    },
    {
      "cell_type": "code",
      "metadata": {
        "colab": {
          "base_uri": "https://localhost:8080/",
          "height": 513
        },
        "id": "qEOF28iu41e_",
        "outputId": "268b2492-be7f-4527-c800-7866609a2783"
      },
      "source": [
        "usto=df_filtrado['user_id'].value_counts()\n",
        "print(usto)\n",
        "usto.plot( linestyle='--', color='g')\n",
        "plt.ylabel('N. veces')\n",
        "plt.xlabel('Usuario')\n",
        "plt.title ('Usuario más repetido')\n",
        "plt.show()"
      ],
      "execution_count": 48,
      "outputs": [
        {
          "output_type": "stream",
          "text": [
            "51.0     1824\n",
            "136.0    1653\n",
            "343.0    1336\n",
            "586.0     220\n",
            "490.0     208\n",
            "         ... \n",
            "526.0      13\n",
            "317.0      12\n",
            "110.0      12\n",
            "474.0       9\n",
            "779.0       9\n",
            "Name: user_id, Length: 981, dtype: int64\n"
          ],
          "name": "stdout"
        },
        {
          "output_type": "display_data",
          "data": {
            "image/png": "[encoded data removed]",
            "text/plain": [
              "<Figure size 432x288 with 1 Axes>"
            ]
          },
          "metadata": {
            "tags": [],
            "needs_background": "light"
          }
        }
      ]
    }
  ]
}