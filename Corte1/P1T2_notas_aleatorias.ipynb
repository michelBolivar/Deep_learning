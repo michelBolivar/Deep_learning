{
  "nbformat": 4,
  "nbformat_minor": 0,
  "metadata": {
    "colab": {
      "name": "P1T2_notas_aleatorias",
      "provenance": []
    },
    "kernelspec": {
      "name": "python3",
      "display_name": "Python 3"
    },
    "language_info": {
      "name": "python"
    }
  },
  "cells": [
    {
      "cell_type": "markdown",
      "metadata": {
        "id": "_nO9Cj4dkO4Z"
      },
      "source": [
        "**Laura Michel Bolivar Rinon **"
      ]
    },
    {
      "cell_type": "markdown",
      "metadata": {
        "id": "vL8Bt9Iu0zjv"
      },
      "source": [
        "Me genere de forma aleatoria las notas (entre 0.0 y 5.0) de 40\n",
        "estudiantes de una asignatura, con esa información calcular:\n",
        "• Cuantos estudiantes perdieron (menor o igual a 2.9).\n",
        "• Cuantos pasaron (3 o más).\n",
        "• Cual fue la nota Promedio."
      ]
    },
    {
      "cell_type": "code",
      "metadata": {
        "id": "aBV2SdwQ_mIU",
        "colab": {
          "base_uri": "https://localhost:8080/"
        },
        "outputId": "193f518b-5093-40cf-9837-10f77abeaa94"
      },
      "source": [
        "import numpy as np\n",
        "from random import uniform\n",
        "notas1,notas2=0,0\n",
        "for i in range(40):\n",
        " calificacion=np.array([uniform(0.0,5.0)])\n",
        " print(calificacion)\n",
        " if calificacion <=2.9: notas1+=1  \n",
        " else: notas2+=1\n",
        "print(f\"\\n Los estudiantes que perdieron fueron:{notas1}\\n los estudiantes que pasaron:{notas2} \\n promedio total es = {np.mean(calificacion)}\")\n"
      ],
      "execution_count": 8,
      "outputs": [
        {
          "output_type": "stream",
          "text": [
            "[3.24317554]\n",
            "[4.02802379]\n",
            "[4.4785192]\n",
            "[4.9167323]\n",
            "[0.25169772]\n",
            "[2.81935962]\n",
            "[4.31469809]\n",
            "[2.68274697]\n",
            "[1.56262547]\n",
            "[3.22985127]\n",
            "[2.57433585]\n",
            "[2.52989105]\n",
            "[3.93859376]\n",
            "[4.90136909]\n",
            "[3.6834409]\n",
            "[2.70337539]\n",
            "[4.64077094]\n",
            "[0.67743552]\n",
            "[2.23225667]\n",
            "[4.61074457]\n",
            "[2.74296926]\n",
            "[1.35036362]\n",
            "[2.90856571]\n",
            "[4.53836362]\n",
            "[4.91112895]\n",
            "[2.69307824]\n",
            "[4.3112232]\n",
            "[4.702504]\n",
            "[1.02116146]\n",
            "[4.9811493]\n",
            "[1.08857651]\n",
            "[0.03086784]\n",
            "[1.49995194]\n",
            "[3.68807682]\n",
            "[0.0164817]\n",
            "[2.3757033]\n",
            "[2.29573165]\n",
            "[3.68433747]\n",
            "[1.10333271]\n",
            "[3.34876746]\n",
            "\n",
            " Los estudiantes que perdieron fueron:20\n",
            " los estudiantes que pasaron:20 \n",
            " promedio total es = 3.3487674639386573\n"
          ],
          "name": "stdout"
        }
      ]
    }
  ]
}