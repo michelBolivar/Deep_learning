{
  "nbformat": 4,
  "nbformat_minor": 0,
  "metadata": {
    "colab": {
      "name": "P1_sklearn-arboles_de_desición_load_iris",
      "provenance": []
    },
    "kernelspec": {
      "name": "python3",
      "display_name": "Python 3"
    },
    "language_info": {
      "name": "python"
    }
  },
  "cells": [
    {
      "cell_type": "markdown",
      "metadata": {
        "id": "oLfDv6XukNnA"
      },
      "source": [
        "Laura Michel Bolivar Ricon "
      ]
    },
    {
      "cell_type": "markdown",
      "metadata": {
        "id": "Cv_DyPYSkRlE"
      },
      "source": [
        "#Importamos Librerias "
      ]
    },
    {
      "cell_type": "code",
      "metadata": {
        "id": "AES9oS3ukLAP"
      },
      "source": [
        "import numpy as np\n",
        "import pandas as pd\n",
        "from sklearn.datasets import load_iris                #dataset sobre la flor iris\n",
        "from sklearn.model_selection import train_test_split    #Clase para dividir dataset(train y test )\n",
        "from sklearn.tree import DecisionTreeClassifier         #Clase que permite implementar un arbol de desicion \n",
        "import matplotlib.pyplot as plt                         #Libreria de generar graficos "
      ],
      "execution_count": 1,
      "outputs": []
    },
    {
      "cell_type": "markdown",
      "metadata": {
        "id": "lNr2Ftc5lWh_"
      },
      "source": [
        "#Cargando Dataset"
      ]
    },
    {
      "cell_type": "code",
      "metadata": {
        "id": "4Yy8l8FplZQ4"
      },
      "source": [
        "db_iris=load_iris()"
      ],
      "execution_count": 2,
      "outputs": []
    },
    {
      "cell_type": "markdown",
      "metadata": {
        "id": "nX_e500HleGy"
      },
      "source": [
        "#Explorando los archivos "
      ]
    },
    {
      "cell_type": "code",
      "metadata": {
        "colab": {
          "base_uri": "https://localhost:8080/"
        },
        "id": "sQov_XoLlgbA",
        "outputId": "825e3e02-750c-48ff-9dc5-703734039a5d"
      },
      "source": [
        "#print(db_iris.DESCR) #Informacion de la dataset\n",
        "print(db_iris.target)"
      ],
      "execution_count": 5,
      "outputs": [
        {
          "output_type": "stream",
          "name": "stdout",
          "text": [
            "[0 0 0 0 0 0 0 0 0 0 0 0 0 0 0 0 0 0 0 0 0 0 0 0 0 0 0 0 0 0 0 0 0 0 0 0 0\n",
            " 0 0 0 0 0 0 0 0 0 0 0 0 0 1 1 1 1 1 1 1 1 1 1 1 1 1 1 1 1 1 1 1 1 1 1 1 1\n",
            " 1 1 1 1 1 1 1 1 1 1 1 1 1 1 1 1 1 1 1 1 1 1 1 1 1 1 2 2 2 2 2 2 2 2 2 2 2\n",
            " 2 2 2 2 2 2 2 2 2 2 2 2 2 2 2 2 2 2 2 2 2 2 2 2 2 2 2 2 2 2 2 2 2 2 2 2 2\n",
            " 2 2]\n"
          ]
        }
      ]
    },
    {
      "cell_type": "markdown",
      "metadata": {
        "id": "GaIJdSsemdwS"
      },
      "source": [
        "#Convertimos el dataset a dataframe"
      ]
    },
    {
      "cell_type": "code",
      "metadata": {
        "colab": {
          "base_uri": "https://localhost:8080/",
          "height": 202
        },
        "id": "pXIiBEIWmw2H",
        "outputId": "15f200c9-48fb-44e6-fa5a-c889d0ee5736"
      },
      "source": [
        "df_iris=pd.DataFrame(db_iris.data,columns=db_iris.feature_names)\n",
        "df_iris['target'] = db_iris.target   #Agregamos una nueva columna \n",
        "df_iris.head()"
      ],
      "execution_count": 6,
      "outputs": [
        {
          "output_type": "execute_result",
          "data": {
            "text/html": [
              "<div>\n",
              "<style scoped>\n",
              "    .dataframe tbody tr th:only-of-type {\n",
              "        vertical-align: middle;\n",
              "    }\n",
              "\n",
              "    .dataframe tbody tr th {\n",
              "        vertical-align: top;\n",
              "    }\n",
              "\n",
              "    .dataframe thead th {\n",
              "        text-align: right;\n",
              "    }\n",
              "</style>\n",
              "<table border=\"1\" class=\"dataframe\">\n",
              "  <thead>\n",
              "    <tr style=\"text-align: right;\">\n",
              "      <th></th>\n",
              "      <th>sepal length (cm)</th>\n",
              "      <th>sepal width (cm)</th>\n",
              "      <th>petal length (cm)</th>\n",
              "      <th>petal width (cm)</th>\n",
              "      <th>target</th>\n",
              "    </tr>\n",
              "  </thead>\n",
              "  <tbody>\n",
              "    <tr>\n",
              "      <th>0</th>\n",
              "      <td>5.1</td>\n",
              "      <td>3.5</td>\n",
              "      <td>1.4</td>\n",
              "      <td>0.2</td>\n",
              "      <td>0</td>\n",
              "    </tr>\n",
              "    <tr>\n",
              "      <th>1</th>\n",
              "      <td>4.9</td>\n",
              "      <td>3.0</td>\n",
              "      <td>1.4</td>\n",
              "      <td>0.2</td>\n",
              "      <td>0</td>\n",
              "    </tr>\n",
              "    <tr>\n",
              "      <th>2</th>\n",
              "      <td>4.7</td>\n",
              "      <td>3.2</td>\n",
              "      <td>1.3</td>\n",
              "      <td>0.2</td>\n",
              "      <td>0</td>\n",
              "    </tr>\n",
              "    <tr>\n",
              "      <th>3</th>\n",
              "      <td>4.6</td>\n",
              "      <td>3.1</td>\n",
              "      <td>1.5</td>\n",
              "      <td>0.2</td>\n",
              "      <td>0</td>\n",
              "    </tr>\n",
              "    <tr>\n",
              "      <th>4</th>\n",
              "      <td>5.0</td>\n",
              "      <td>3.6</td>\n",
              "      <td>1.4</td>\n",
              "      <td>0.2</td>\n",
              "      <td>0</td>\n",
              "    </tr>\n",
              "  </tbody>\n",
              "</table>\n",
              "</div>"
            ],
            "text/plain": [
              "   sepal length (cm)  sepal width (cm)  ...  petal width (cm)  target\n",
              "0                5.1               3.5  ...               0.2       0\n",
              "1                4.9               3.0  ...               0.2       0\n",
              "2                4.7               3.2  ...               0.2       0\n",
              "3                4.6               3.1  ...               0.2       0\n",
              "4                5.0               3.6  ...               0.2       0\n",
              "\n",
              "[5 rows x 5 columns]"
            ]
          },
          "metadata": {},
          "execution_count": 6
        }
      ]
    },
    {
      "cell_type": "markdown",
      "metadata": {
        "id": "5LMbRB5joAGW"
      },
      "source": [
        "#Dividiendo el conjunto de datos (train y set)"
      ]
    },
    {
      "cell_type": "code",
      "metadata": {
        "id": "HS2B6hDMoyeT"
      },
      "source": [
        "#Se estan dividiendo los datos 75% y 25%\n",
        "X_train , X_test, Y_train, Y_test= train_test_split(df_iris[db_iris.feature_names], df_iris['target'], random_state=0)"
      ],
      "execution_count": 9,
      "outputs": []
    },
    {
      "cell_type": "markdown",
      "metadata": {
        "id": "FZQipYozpQJx"
      },
      "source": [
        ""
      ]
    },
    {
      "cell_type": "markdown",
      "metadata": {
        "id": "fudnWyudpQM4"
      },
      "source": [
        "#Instanciar arbol de desicion "
      ]
    },
    {
      "cell_type": "code",
      "metadata": {
        "id": "wMb1j1uDpTqQ"
      },
      "source": [
        "# Si no se define este valor el arbol puede crecer hasta que el algoritmo encunetre minima ramificacion \n",
        "arbol_clasi=DecisionTreeClassifier(max_depth=3, random_state=0)"
      ],
      "execution_count": 10,
      "outputs": []
    },
    {
      "cell_type": "markdown",
      "metadata": {
        "id": "PHMphRftqE7Z"
      },
      "source": [
        "#Entrenamos el modelo "
      ]
    },
    {
      "cell_type": "code",
      "metadata": {
        "colab": {
          "base_uri": "https://localhost:8080/"
        },
        "id": "ipCJwPxlqGzE",
        "outputId": "4958d1eb-feda-4a3e-be04-7e74fe705c42"
      },
      "source": [
        "arbol_clasi.fit(X_train, Y_train)"
      ],
      "execution_count": 11,
      "outputs": [
        {
          "output_type": "execute_result",
          "data": {
            "text/plain": [
              "DecisionTreeClassifier(ccp_alpha=0.0, class_weight=None, criterion='gini',\n",
              "                       max_depth=3, max_features=None, max_leaf_nodes=None,\n",
              "                       min_impurity_decrease=0.0, min_impurity_split=None,\n",
              "                       min_samples_leaf=1, min_samples_split=2,\n",
              "                       min_weight_fraction_leaf=0.0, presort='deprecated',\n",
              "                       random_state=0, splitter='best')"
            ]
          },
          "metadata": {},
          "execution_count": 11
        }
      ]
    },
    {
      "cell_type": "markdown",
      "metadata": {
        "id": "UVT8alJHqWNU"
      },
      "source": [
        "#Usamos los datos de test para predecir "
      ]
    },
    {
      "cell_type": "code",
      "metadata": {
        "colab": {
          "base_uri": "https://localhost:8080/"
        },
        "id": "_teXj-b3qcax",
        "outputId": "747ba568-6495-41e7-8553-6bcf8a77a6b0"
      },
      "source": [
        "#Prediccion de registro \n",
        "#Tomamos la informacion del primer registro (X_test)\n",
        "print(X_test.iloc[0])\n",
        "#Nos muestra el resultado de la flor \n",
        "print(Y_test.iloc[0])\n",
        "#Le pasamos los datos al algoritmo \n",
        "arbol_clasi.predict(X_test.iloc[0].values.reshape(1,-1))\n",
        "\n",
        "#predicciones para varios registros \n",
        "arbol_clasi.predict(X_test[0:10])\n",
        "\n"
      ],
      "execution_count": 14,
      "outputs": [
        {
          "output_type": "stream",
          "name": "stdout",
          "text": [
            "sepal length (cm)    5.8\n",
            "sepal width (cm)     2.8\n",
            "petal length (cm)    5.1\n",
            "petal width (cm)     2.4\n",
            "Name: 114, dtype: float64\n",
            "2\n"
          ]
        },
        {
          "output_type": "execute_result",
          "data": {
            "text/plain": [
              "array([2, 1, 0, 2, 0, 2, 0, 1, 1, 1])"
            ]
          },
          "metadata": {},
          "execution_count": 14
        }
      ]
    },
    {
      "cell_type": "markdown",
      "metadata": {
        "id": "jWPtca64rtc4"
      },
      "source": [
        "#Presicion(accuary) del arlogritmo"
      ]
    },
    {
      "cell_type": "code",
      "metadata": {
        "colab": {
          "base_uri": "https://localhost:8080/"
        },
        "id": "FJVmmaVmr3VT",
        "outputId": "2f80f577-f1d5-45af-84c9-c3babf570976"
      },
      "source": [
        "accuary=arbol_clasi.score(X_test,Y_test)\n",
        "print(accuary)"
      ],
      "execution_count": 15,
      "outputs": [
        {
          "output_type": "stream",
          "name": "stdout",
          "text": [
            "0.9736842105263158\n"
          ]
        }
      ]
    },
    {
      "cell_type": "code",
      "metadata": {
        "colab": {
          "base_uri": "https://localhost:8080/"
        },
        "id": "UxRBh_61-xah",
        "outputId": "8b365138-2d53-43e2-b39c-90c6d3e83885"
      },
      "source": [
        "db_iris.feature_names"
      ],
      "execution_count": 27,
      "outputs": [
        {
          "output_type": "execute_result",
          "data": {
            "text/plain": [
              "['sepal length (cm)',\n",
              " 'sepal width (cm)',\n",
              " 'petal length (cm)',\n",
              " 'petal width (cm)']"
            ]
          },
          "metadata": {},
          "execution_count": 27
        }
      ]
    },
    {
      "cell_type": "markdown",
      "metadata": {
        "id": "94sNHyexsdfe"
      },
      "source": [
        "#Graficando el arbol "
      ]
    },
    {
      "cell_type": "code",
      "metadata": {
        "colab": {
          "base_uri": "https://localhost:8080/"
        },
        "id": "RZYR6w2bsf0e",
        "outputId": "a040a157-c988-4b19-b4ea-338a5e5572e7"
      },
      "source": [
        "class_names_list=list(['setosa','versicolor','virginica'])\n",
        "from sklearn.tree import export_graphviz\n",
        "from pydotplus import graph_from_dot_data\n",
        "dot_data =export_graphviz(arbol_clasi,feature_names=db_iris.feature_names, class_names=class_names_list)\n",
        "graph = graph_from_dot_data(dot_data)\n",
        "graph.write_png('tree_iris.png')"
      ],
      "execution_count": 16,
      "outputs": [
        {
          "output_type": "execute_result",
          "data": {
            "text/plain": [
              "True"
            ]
          },
          "metadata": {},
          "execution_count": 16
        }
      ]
    },
    {
      "cell_type": "markdown",
      "metadata": {
        "id": "68Nq-YB1t8xP"
      },
      "source": [
        "#Conociendo las caracteristicas mas importantes "
      ]
    },
    {
      "cell_type": "code",
      "metadata": {
        "colab": {
          "base_uri": "https://localhost:8080/",
          "height": 171
        },
        "id": "UrfHSVRAuBLR",
        "outputId": "238f3b7b-da8a-42fd-fb0a-22baede50b93"
      },
      "source": [
        "importances= pd.DataFrame({'feature':X_train.columns, 'importance':np.round(arbol_clasi.feature_importances_,3)})\n",
        "importances = importances.sort_values('importance',ascending=False)\n",
        "importances.head(10)"
      ],
      "execution_count": 19,
      "outputs": [
        {
          "output_type": "execute_result",
          "data": {
            "text/html": [
              "<div>\n",
              "<style scoped>\n",
              "    .dataframe tbody tr th:only-of-type {\n",
              "        vertical-align: middle;\n",
              "    }\n",
              "\n",
              "    .dataframe tbody tr th {\n",
              "        vertical-align: top;\n",
              "    }\n",
              "\n",
              "    .dataframe thead th {\n",
              "        text-align: right;\n",
              "    }\n",
              "</style>\n",
              "<table border=\"1\" class=\"dataframe\">\n",
              "  <thead>\n",
              "    <tr style=\"text-align: right;\">\n",
              "      <th></th>\n",
              "      <th>feature</th>\n",
              "      <th>importance</th>\n",
              "    </tr>\n",
              "  </thead>\n",
              "  <tbody>\n",
              "    <tr>\n",
              "      <th>3</th>\n",
              "      <td>petal width (cm)</td>\n",
              "      <td>0.578</td>\n",
              "    </tr>\n",
              "    <tr>\n",
              "      <th>2</th>\n",
              "      <td>petal length (cm)</td>\n",
              "      <td>0.422</td>\n",
              "    </tr>\n",
              "    <tr>\n",
              "      <th>0</th>\n",
              "      <td>sepal length (cm)</td>\n",
              "      <td>0.000</td>\n",
              "    </tr>\n",
              "    <tr>\n",
              "      <th>1</th>\n",
              "      <td>sepal width (cm)</td>\n",
              "      <td>0.000</td>\n",
              "    </tr>\n",
              "  </tbody>\n",
              "</table>\n",
              "</div>"
            ],
            "text/plain": [
              "             feature  importance\n",
              "3   petal width (cm)       0.578\n",
              "2  petal length (cm)       0.422\n",
              "0  sepal length (cm)       0.000\n",
              "1   sepal width (cm)       0.000"
            ]
          },
          "metadata": {},
          "execution_count": 19
        }
      ]
    },
    {
      "cell_type": "markdown",
      "metadata": {
        "id": "sGnMEXUut3RB"
      },
      "source": [
        "#Mejorando el Arbol "
      ]
    },
    {
      "cell_type": "code",
      "metadata": {
        "id": "1OkEhWgVt5To"
      },
      "source": [
        "#La profundidad de un arbol la medimos con max_depth\n",
        "#Cramos una lista con profunidad de 1 al 6\n",
        "max_depth_lista=list(range(1,6))\n",
        "accuracy=[]\n",
        "for depth in max_depth_lista:\n",
        "    #creamos la instancia del arbol\n",
        "  arbol_clasi= DecisionTreeClassifier(max_depth=depth, random_state=0)\n",
        "  #Entrenamos on la informacion \n",
        "  arbol_clasi.fit(X_train,Y_train)\n",
        "  #Obtenemos el score\n",
        "  score=arbol_clasi.score(X_test,Y_test)\n",
        "  accuracy.append(score)"
      ],
      "execution_count": 22,
      "outputs": []
    },
    {
      "cell_type": "markdown",
      "metadata": {
        "id": "nJNhgQCJ2Voz"
      },
      "source": [
        "Visualizamos la informacion para determinar cual es la profundiad mas adecuada (maxima inferencia)\n"
      ]
    },
    {
      "cell_type": "code",
      "metadata": {
        "colab": {
          "base_uri": "https://localhost:8080/",
          "height": 278
        },
        "id": "rPKf6vFB2_03",
        "outputId": "8974c05d-db05-4bf8-b0e4-c3a4fbd9e333"
      },
      "source": [
        "plt.plot(max_depth_lista,accuracy)\n",
        "plt.ylabel('accuracy')\n",
        "plt.xlabel('depth')\n",
        "plt.grid(True)\n",
        "plt.show()"
      ],
      "execution_count": 24,
      "outputs": [
        {
          "output_type": "display_data",
          "data": {
            "image/png": "[encoded data removed]",
            "text/plain": [
              "<Figure size 432x288 with 1 Axes>"
            ]
          },
          "metadata": {
            "needs_background": "light"
          }
        }
      ]
    },
    {
      "cell_type": "markdown",
      "metadata": {
        "id": "5LbOIrDl3c8j"
      },
      "source": [
        "Hiper-paraemtros que aydan a mejorar la creaccion de un arbol\n",
        "\n",
        "->**max_depth:** la profundidad máxima del árbol. En los ejemplos anteriores hemos usado max_depth = 2\n",
        "->**min_samples_split:** número mínimo de muestras necesarias antes de dividir este nodo. También se puede expresar en porcentaje.\n",
        "->**min_samples_leaf:** número mínimo de muestras que debe haber en un nodo final (hoja). También se puede expresar en porcentaje.\n",
        "->**max_leaf_nodes:** número máximo de nodos finales\n",
        "\n"
      ]
    }
  ]
}