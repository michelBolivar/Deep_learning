{
  "nbformat": 4,
  "nbformat_minor": 0,
  "metadata": {
    "colab": {
      "name": "P1T5_mark_bank_pro",
      "provenance": []
    },
    "kernelspec": {
      "name": "python3",
      "display_name": "Python 3"
    },
    "language_info": {
      "name": "python"
    }
  },
  "cells": [
    {
      "cell_type": "code",
      "metadata": {
        "id": "wUperq-0d0nC"
      },
      "source": [
        "import numpy as np\n",
        "import pandas as pd\n",
        "\n",
        "import matplotlib.pyplot as plt\n",
        "import seaborn as sns\n",
        "\n",
        "from sklearn import metrics\n",
        "from sklearn.model_selection import train_test_split"
      ],
      "execution_count": 49,
      "outputs": []
    },
    {
      "cell_type": "code",
      "metadata": {
        "id": "v8qD6vsjd3AB"
      },
      "source": [
        "data = pd.DataFrame()\n",
        "data = pd.read_csv('https://raw.githubusercontent.com/luisFernandoCastellanosG/Machine_learning/master/Machine_Learning_Classic/Databasets/mercadeo_bancario.csv', encoding='utf-8')"
      ],
      "execution_count": 50,
      "outputs": []
    },
    {
      "cell_type": "markdown",
      "metadata": {
        "id": "Heh-y7tFeFVs"
      },
      "source": [
        "Conocer la data "
      ]
    },
    {
      "cell_type": "code",
      "metadata": {
        "colab": {
          "base_uri": "https://localhost:8080/",
          "height": 297
        },
        "id": "88XY0JDDeH7a",
        "outputId": "39dff9b0-f388-40fc-c991-54ac543728b2"
      },
      "source": [
        "data.describe()"
      ],
      "execution_count": 51,
      "outputs": [
        {
          "output_type": "execute_result",
          "data": {
            "text/html": [
              "<div>\n",
              "<style scoped>\n",
              "    .dataframe tbody tr th:only-of-type {\n",
              "        vertical-align: middle;\n",
              "    }\n",
              "\n",
              "    .dataframe tbody tr th {\n",
              "        vertical-align: top;\n",
              "    }\n",
              "\n",
              "    .dataframe thead th {\n",
              "        text-align: right;\n",
              "    }\n",
              "</style>\n",
              "<table border=\"1\" class=\"dataframe\">\n",
              "  <thead>\n",
              "    <tr style=\"text-align: right;\">\n",
              "      <th></th>\n",
              "      <th>edad</th>\n",
              "      <th>total_hijos</th>\n",
              "      <th>valor_prestamo</th>\n",
              "      <th>dias_ultimo_pago</th>\n",
              "      <th>tarjetas_credito</th>\n",
              "      <th>duracion_ultimo_contacto</th>\n",
              "      <th>dias_ultimo_contacto</th>\n",
              "      <th>anterior_contacto</th>\n",
              "      <th>numero_empleados</th>\n",
              "      <th>si_no</th>\n",
              "    </tr>\n",
              "  </thead>\n",
              "  <tbody>\n",
              "    <tr>\n",
              "      <th>count</th>\n",
              "      <td>41188.00000</td>\n",
              "      <td>41188.000000</td>\n",
              "      <td>41188.000000</td>\n",
              "      <td>41188.000000</td>\n",
              "      <td>41188.000000</td>\n",
              "      <td>41188.000000</td>\n",
              "      <td>41188.00000</td>\n",
              "      <td>41188.000000</td>\n",
              "      <td>41188.000000</td>\n",
              "      <td>41188.000000</td>\n",
              "    </tr>\n",
              "    <tr>\n",
              "      <th>mean</th>\n",
              "      <td>40.02406</td>\n",
              "      <td>3.984680</td>\n",
              "      <td>149706.676751</td>\n",
              "      <td>0.336409</td>\n",
              "      <td>2.497524</td>\n",
              "      <td>258.285010</td>\n",
              "      <td>26.35117</td>\n",
              "      <td>0.172963</td>\n",
              "      <td>1002.421652</td>\n",
              "      <td>0.112654</td>\n",
              "    </tr>\n",
              "    <tr>\n",
              "      <th>std</th>\n",
              "      <td>10.42125</td>\n",
              "      <td>2.583405</td>\n",
              "      <td>166028.840792</td>\n",
              "      <td>4.478984</td>\n",
              "      <td>1.703683</td>\n",
              "      <td>259.279249</td>\n",
              "      <td>29.94257</td>\n",
              "      <td>0.494901</td>\n",
              "      <td>577.707188</td>\n",
              "      <td>0.316173</td>\n",
              "    </tr>\n",
              "    <tr>\n",
              "      <th>min</th>\n",
              "      <td>17.00000</td>\n",
              "      <td>0.000000</td>\n",
              "      <td>0.000000</td>\n",
              "      <td>0.000000</td>\n",
              "      <td>0.000000</td>\n",
              "      <td>0.000000</td>\n",
              "      <td>0.00000</td>\n",
              "      <td>0.000000</td>\n",
              "      <td>0.000000</td>\n",
              "      <td>0.000000</td>\n",
              "    </tr>\n",
              "    <tr>\n",
              "      <th>25%</th>\n",
              "      <td>32.00000</td>\n",
              "      <td>2.000000</td>\n",
              "      <td>0.000000</td>\n",
              "      <td>0.000000</td>\n",
              "      <td>1.000000</td>\n",
              "      <td>102.000000</td>\n",
              "      <td>0.00000</td>\n",
              "      <td>0.000000</td>\n",
              "      <td>504.000000</td>\n",
              "      <td>0.000000</td>\n",
              "    </tr>\n",
              "    <tr>\n",
              "      <th>50%</th>\n",
              "      <td>38.00000</td>\n",
              "      <td>4.000000</td>\n",
              "      <td>81778.500000</td>\n",
              "      <td>0.000000</td>\n",
              "      <td>2.000000</td>\n",
              "      <td>180.000000</td>\n",
              "      <td>13.00000</td>\n",
              "      <td>0.000000</td>\n",
              "      <td>1001.000000</td>\n",
              "      <td>0.000000</td>\n",
              "    </tr>\n",
              "    <tr>\n",
              "      <th>75%</th>\n",
              "      <td>47.00000</td>\n",
              "      <td>6.000000</td>\n",
              "      <td>290938.500000</td>\n",
              "      <td>0.000000</td>\n",
              "      <td>4.000000</td>\n",
              "      <td>319.000000</td>\n",
              "      <td>52.00000</td>\n",
              "      <td>0.000000</td>\n",
              "      <td>1506.000000</td>\n",
              "      <td>0.000000</td>\n",
              "    </tr>\n",
              "    <tr>\n",
              "      <th>max</th>\n",
              "      <td>98.00000</td>\n",
              "      <td>8.000000</td>\n",
              "      <td>499992.000000</td>\n",
              "      <td>90.000000</td>\n",
              "      <td>5.000000</td>\n",
              "      <td>4918.000000</td>\n",
              "      <td>90.00000</td>\n",
              "      <td>7.000000</td>\n",
              "      <td>2000.000000</td>\n",
              "      <td>1.000000</td>\n",
              "    </tr>\n",
              "  </tbody>\n",
              "</table>\n",
              "</div>"
            ],
            "text/plain": [
              "              edad   total_hijos  ...  numero_empleados         si_no\n",
              "count  41188.00000  41188.000000  ...      41188.000000  41188.000000\n",
              "mean      40.02406      3.984680  ...       1002.421652      0.112654\n",
              "std       10.42125      2.583405  ...        577.707188      0.316173\n",
              "min       17.00000      0.000000  ...          0.000000      0.000000\n",
              "25%       32.00000      2.000000  ...        504.000000      0.000000\n",
              "50%       38.00000      4.000000  ...       1001.000000      0.000000\n",
              "75%       47.00000      6.000000  ...       1506.000000      0.000000\n",
              "max       98.00000      8.000000  ...       2000.000000      1.000000\n",
              "\n",
              "[8 rows x 10 columns]"
            ]
          },
          "metadata": {},
          "execution_count": 51
        }
      ]
    },
    {
      "cell_type": "code",
      "metadata": {
        "colab": {
          "base_uri": "https://localhost:8080/"
        },
        "id": "x8KYtfJKeMt0",
        "outputId": "bce1ff56-30c5-484d-c9de-95f5d0c226b0"
      },
      "source": [
        "data.info()"
      ],
      "execution_count": 52,
      "outputs": [
        {
          "output_type": "stream",
          "name": "stdout",
          "text": [
            "<class 'pandas.core.frame.DataFrame'>\n",
            "RangeIndex: 41188 entries, 0 to 41187\n",
            "Data columns (total 19 columns):\n",
            " #   Column                    Non-Null Count  Dtype \n",
            "---  ------                    --------------  ----- \n",
            " 0   edad                      41188 non-null  int64 \n",
            " 1   trabajo                   41188 non-null  object\n",
            " 2   estado_civil              41188 non-null  object\n",
            " 3   educacion                 41188 non-null  object\n",
            " 4   total_hijos               41188 non-null  int64 \n",
            " 5   credito_sin_pago          41188 non-null  object\n",
            " 6   prestamo_vivienda         41188 non-null  object\n",
            " 7   prestamo_personal         41188 non-null  object\n",
            " 8   valor_prestamo            41188 non-null  int64 \n",
            " 9   dias_ultimo_pago          41188 non-null  int64 \n",
            " 10  tarjetas_credito          41188 non-null  int64 \n",
            " 11  contacto                  41188 non-null  object\n",
            " 12  mes                       41188 non-null  object\n",
            " 13  dia_semana                41188 non-null  object\n",
            " 14  duracion_ultimo_contacto  41188 non-null  int64 \n",
            " 15  dias_ultimo_contacto      41188 non-null  int64 \n",
            " 16  anterior_contacto         41188 non-null  int64 \n",
            " 17  numero_empleados          41188 non-null  int64 \n",
            " 18  si_no                     41188 non-null  int64 \n",
            "dtypes: int64(10), object(9)\n",
            "memory usage: 6.0+ MB\n"
          ]
        }
      ]
    },
    {
      "cell_type": "code",
      "metadata": {
        "colab": {
          "base_uri": "https://localhost:8080/"
        },
        "id": "1vOhUJaveSt6",
        "outputId": "6990f7b8-2d6f-4804-e0ff-9936f8af8488"
      },
      "source": [
        "uniqueValues = data['credito_sin_pago'].unique()\n",
        "print(sorted(uniqueValues))"
      ],
      "execution_count": 53,
      "outputs": [
        {
          "output_type": "stream",
          "name": "stdout",
          "text": [
            "['no', 'unknown', 'yes']\n"
          ]
        }
      ]
    },
    {
      "cell_type": "markdown",
      "metadata": {
        "id": "_McxOuE-eZkb"
      },
      "source": [
        "#Convertir cada categoria a data numerica"
      ]
    },
    {
      "cell_type": "markdown",
      "metadata": {
        "id": "Fl9yjA-ee_86"
      },
      "source": [
        "## usando preprocessing"
      ]
    },
    {
      "cell_type": "code",
      "metadata": {
        "id": "eS09IH1HeoM6"
      },
      "source": [
        "from sklearn import preprocessing\n",
        "le =preprocessing.LabelEncoder() "
      ],
      "execution_count": 54,
      "outputs": []
    },
    {
      "cell_type": "code",
      "metadata": {
        "id": "AbfXIC0neeCD"
      },
      "source": [
        "data['trabajo']=le.fit_transform(data['trabajo'])  # (version rapida)\n",
        "data['estado_civil ']=le.fit_transform(data['estado_civil '])  # (version rapida)\n",
        "#data['educacion']=le.fit_transform(data['educacion'])  # (version rapida)\n",
        "data['credito_sin_pago']=le.fit_transform(data['credito_sin_pago'])  # (version rapida)\n",
        "data['prestamo_vivienda']=le.fit_transform(data['prestamo_vivienda'])  # (version rapida)\n",
        "data['prestamo_personal']=le.fit_transform(data['prestamo_personal'])  # (version rapida)\n",
        "data['contacto']=le.fit_transform(data['contacto'])  # (version rapida)\n",
        "#data['mes']=le.fit_transform(data['mes'])  # (version rapida)\n",
        "#data['dia_semana']=le.fit_transform(data['dia_semana'])  # (version rapida)"
      ],
      "execution_count": 55,
      "outputs": []
    },
    {
      "cell_type": "markdown",
      "metadata": {
        "id": "wWGES3YSfLnS"
      },
      "source": [
        "##Usando diccionarios como reemplazo\n"
      ]
    },
    {
      "cell_type": "code",
      "metadata": {
        "id": "UYfKWp_qeeD8"
      },
      "source": [
        "educacion = {\n",
        "    'unknown': 0,\n",
        "    'preschool': 1,\n",
        "    'primary_school': 2,\n",
        "    'tecnical_school': 3,\n",
        "    'Technological_school': 4,\n",
        "    'illiterate': 5,\n",
        "    'professional.course': 6,\n",
        "    'university.degree': 7\n",
        "}\n",
        "data['educacion'] = data['educacion'].map(educacion)"
      ],
      "execution_count": 56,
      "outputs": []
    },
    {
      "cell_type": "code",
      "metadata": {
        "id": "7vLU7Z7kevBq"
      },
      "source": [
        "mes = {\n",
        "    'mar': 3,\n",
        "    'apr': 4,\n",
        "    'may': 5,\n",
        "    'jun': 6,\n",
        "    'jul': 7,\n",
        "    'aug': 8,\n",
        "    'sep': 9,\n",
        "    'oct': 10,\n",
        "    'nov': 11\n",
        "}\n",
        "data['mes'] = data['mes'].map(mes)"
      ],
      "execution_count": 57,
      "outputs": []
    },
    {
      "cell_type": "code",
      "metadata": {
        "id": "4A17fwP3ezHK"
      },
      "source": [
        "dia_semana = {\n",
        "    'sun': 1,\n",
        "    'mon': 2,\n",
        "    'tue': 3,\n",
        "    'wed': 4,\n",
        "    'thu': 5,\n",
        "    'fri': 6,\n",
        "    'sat': 7\n",
        "}\n",
        "data['dia_semana'] = data['dia_semana'].map(dia_semana)"
      ],
      "execution_count": 58,
      "outputs": []
    },
    {
      "cell_type": "markdown",
      "metadata": {
        "id": "7SV6ZMDZfSIK"
      },
      "source": [
        "##Verificamos el cambio de dato "
      ]
    },
    {
      "cell_type": "code",
      "metadata": {
        "colab": {
          "base_uri": "https://localhost:8080/"
        },
        "id": "IvEsfRz0e4qk",
        "outputId": "59b8a415-7300-4172-ecc4-36cdcfd48927"
      },
      "source": [
        "uniqueValues = data['estado_civil '].unique()\n",
        "print(uniqueValues)"
      ],
      "execution_count": 59,
      "outputs": [
        {
          "output_type": "stream",
          "name": "stdout",
          "text": [
            "[1 2 0 3]\n"
          ]
        }
      ]
    },
    {
      "cell_type": "markdown",
      "metadata": {
        "id": "X5F6UL7ZfWAB"
      },
      "source": [
        "##Verificamos que todos esten con datos numericos -enteros "
      ]
    },
    {
      "cell_type": "code",
      "metadata": {
        "colab": {
          "base_uri": "https://localhost:8080/"
        },
        "id": "kRThVQsIe7sa",
        "outputId": "2b9533e4-862e-4ff2-b917-b12bacfe5d25"
      },
      "source": [
        "data.info()"
      ],
      "execution_count": 60,
      "outputs": [
        {
          "output_type": "stream",
          "name": "stdout",
          "text": [
            "<class 'pandas.core.frame.DataFrame'>\n",
            "RangeIndex: 41188 entries, 0 to 41187\n",
            "Data columns (total 19 columns):\n",
            " #   Column                    Non-Null Count  Dtype  \n",
            "---  ------                    --------------  -----  \n",
            " 0   edad                      41188 non-null  int64  \n",
            " 1   trabajo                   41188 non-null  int64  \n",
            " 2   estado_civil              41188 non-null  int64  \n",
            " 3   educacion                 41188 non-null  int64  \n",
            " 4   total_hijos               41188 non-null  int64  \n",
            " 5   credito_sin_pago          41188 non-null  int64  \n",
            " 6   prestamo_vivienda         41188 non-null  int64  \n",
            " 7   prestamo_personal         41188 non-null  int64  \n",
            " 8   valor_prestamo            41188 non-null  int64  \n",
            " 9   dias_ultimo_pago          41188 non-null  int64  \n",
            " 10  tarjetas_credito          41188 non-null  int64  \n",
            " 11  contacto                  41188 non-null  int64  \n",
            " 12  mes                       41006 non-null  float64\n",
            " 13  dia_semana                41188 non-null  int64  \n",
            " 14  duracion_ultimo_contacto  41188 non-null  int64  \n",
            " 15  dias_ultimo_contacto      41188 non-null  int64  \n",
            " 16  anterior_contacto         41188 non-null  int64  \n",
            " 17  numero_empleados          41188 non-null  int64  \n",
            " 18  si_no                     41188 non-null  int64  \n",
            "dtypes: float64(1), int64(18)\n",
            "memory usage: 6.0 MB\n"
          ]
        }
      ]
    },
    {
      "cell_type": "markdown",
      "metadata": {
        "id": "O254yBWofgr7"
      },
      "source": [
        "##Mes estan aun con tipo FLOAT lo convertimos a entero"
      ]
    },
    {
      "cell_type": "code",
      "metadata": {
        "id": "7ROPNSopfmMO"
      },
      "source": [
        "data = data.fillna(0)"
      ],
      "execution_count": 61,
      "outputs": []
    },
    {
      "cell_type": "code",
      "metadata": {
        "id": "h6Xezu0_g3ad"
      },
      "source": [
        "data['mes'] = data['mes'].astype('int')"
      ],
      "execution_count": 62,
      "outputs": []
    },
    {
      "cell_type": "code",
      "metadata": {
        "colab": {
          "base_uri": "https://localhost:8080/"
        },
        "id": "OLZ5ZzFBg52Y",
        "outputId": "5ed5ab61-2331-40af-c7a8-58726033adf9"
      },
      "source": [
        "data.info()"
      ],
      "execution_count": 63,
      "outputs": [
        {
          "output_type": "stream",
          "name": "stdout",
          "text": [
            "<class 'pandas.core.frame.DataFrame'>\n",
            "RangeIndex: 41188 entries, 0 to 41187\n",
            "Data columns (total 19 columns):\n",
            " #   Column                    Non-Null Count  Dtype\n",
            "---  ------                    --------------  -----\n",
            " 0   edad                      41188 non-null  int64\n",
            " 1   trabajo                   41188 non-null  int64\n",
            " 2   estado_civil              41188 non-null  int64\n",
            " 3   educacion                 41188 non-null  int64\n",
            " 4   total_hijos               41188 non-null  int64\n",
            " 5   credito_sin_pago          41188 non-null  int64\n",
            " 6   prestamo_vivienda         41188 non-null  int64\n",
            " 7   prestamo_personal         41188 non-null  int64\n",
            " 8   valor_prestamo            41188 non-null  int64\n",
            " 9   dias_ultimo_pago          41188 non-null  int64\n",
            " 10  tarjetas_credito          41188 non-null  int64\n",
            " 11  contacto                  41188 non-null  int64\n",
            " 12  mes                       41188 non-null  int64\n",
            " 13  dia_semana                41188 non-null  int64\n",
            " 14  duracion_ultimo_contacto  41188 non-null  int64\n",
            " 15  dias_ultimo_contacto      41188 non-null  int64\n",
            " 16  anterior_contacto         41188 non-null  int64\n",
            " 17  numero_empleados          41188 non-null  int64\n",
            " 18  si_no                     41188 non-null  int64\n",
            "dtypes: int64(19)\n",
            "memory usage: 6.0 MB\n"
          ]
        }
      ]
    },
    {
      "cell_type": "markdown",
      "metadata": {
        "id": "5ed7mvYXhAAH"
      },
      "source": [
        "#Responder Preguntas"
      ]
    },
    {
      "cell_type": "markdown",
      "metadata": {
        "id": "TlAR8C8DhE4S"
      },
      "source": [
        "##Edad Promedio de los que dijeron SI"
      ]
    },
    {
      "cell_type": "code",
      "metadata": {
        "colab": {
          "base_uri": "https://localhost:8080/"
        },
        "id": "qTeFMIsGhG4v",
        "outputId": "92690c34-1253-41d6-92f5-434465794b6b"
      },
      "source": [
        "data[data['si_no']==1]['edad'].mean()"
      ],
      "execution_count": 64,
      "outputs": [
        {
          "output_type": "execute_result",
          "data": {
            "text/plain": [
              "40.91314655172414"
            ]
          },
          "metadata": {},
          "execution_count": 64
        }
      ]
    },
    {
      "cell_type": "markdown",
      "metadata": {
        "id": "1ZEHW_xfhPO_"
      },
      "source": [
        "##Edad Promedio de los que dijeron NO"
      ]
    },
    {
      "cell_type": "code",
      "metadata": {
        "colab": {
          "base_uri": "https://localhost:8080/"
        },
        "id": "zNvFFhHdhRjm",
        "outputId": "5ead0485-0814-4dd2-f63f-0f6fde527ec3"
      },
      "source": [
        "data[data['si_no']==0]['edad'].mean()"
      ],
      "execution_count": 65,
      "outputs": [
        {
          "output_type": "execute_result",
          "data": {
            "text/plain": [
              "39.911185290576775"
            ]
          },
          "metadata": {},
          "execution_count": 65
        }
      ]
    },
    {
      "cell_type": "markdown",
      "metadata": {
        "id": "-OIssQuGhU63"
      },
      "source": [
        "##Promedio de Hijos"
      ]
    },
    {
      "cell_type": "code",
      "metadata": {
        "colab": {
          "base_uri": "https://localhost:8080/"
        },
        "id": "AHWBKpR7hXQn",
        "outputId": "4a28f12a-0947-4a13-cae3-1c5edd16b685"
      },
      "source": [
        "data['total_hijos'].mean()"
      ],
      "execution_count": 66,
      "outputs": [
        {
          "output_type": "execute_result",
          "data": {
            "text/plain": [
              "3.9846800038846264"
            ]
          },
          "metadata": {},
          "execution_count": 66
        }
      ]
    },
    {
      "cell_type": "markdown",
      "metadata": {
        "id": "Rvp03KVphb0p"
      },
      "source": [
        "##Cantidad de personas según su estado Civil"
      ]
    },
    {
      "cell_type": "code",
      "metadata": {
        "colab": {
          "base_uri": "https://localhost:8080/"
        },
        "id": "JMX4mYW4hc-j",
        "outputId": "b1d13b97-a2af-4d92-9267-3d2353384bf3"
      },
      "source": [
        "data['estado_civil '].value_counts()"
      ],
      "execution_count": 67,
      "outputs": [
        {
          "output_type": "execute_result",
          "data": {
            "text/plain": [
              "1    24928\n",
              "2    11568\n",
              "0     4612\n",
              "3       80\n",
              "Name: estado_civil , dtype: int64"
            ]
          },
          "metadata": {},
          "execution_count": 67
        }
      ]
    },
    {
      "cell_type": "markdown",
      "metadata": {
        "id": "Ws3WgpK-hfeP"
      },
      "source": [
        ""
      ]
    },
    {
      "cell_type": "markdown",
      "metadata": {
        "id": "OVnDTMZehfhj"
      },
      "source": [
        "##Cantida de personas según su trabajo"
      ]
    },
    {
      "cell_type": "code",
      "metadata": {
        "colab": {
          "base_uri": "https://localhost:8080/"
        },
        "id": "785j-fdEhhzZ",
        "outputId": "d9145fcf-b2b1-4991-d1a8-9938a179e929"
      },
      "source": [
        "data['educacion'].value_counts()"
      ],
      "execution_count": 68,
      "outputs": [
        {
          "output_type": "execute_result",
          "data": {
            "text/plain": [
              "7    12168\n",
              "4     9515\n",
              "3     6045\n",
              "6     5243\n",
              "1     4176\n",
              "2     2292\n",
              "0     1731\n",
              "5       18\n",
              "Name: educacion, dtype: int64"
            ]
          },
          "metadata": {},
          "execution_count": 68
        }
      ]
    },
    {
      "cell_type": "markdown",
      "metadata": {
        "id": "EFV33Ts5hoPy"
      },
      "source": [
        "#Construir el modelo de Regresión Logística"
      ]
    },
    {
      "cell_type": "code",
      "metadata": {
        "id": "L7IIk9OihpKd"
      },
      "source": [
        "from sklearn.metrics import accuracy_score\n",
        "from sklearn.linear_model import LogisticRegression"
      ],
      "execution_count": 69,
      "outputs": []
    },
    {
      "cell_type": "code",
      "metadata": {
        "id": "wSwFSyeRhtLp"
      },
      "source": [
        "X = data.drop('si_no', axis=1)\n",
        "y = data.si_no\n",
        "\n",
        "x_train, x_test, y_train, y_test = train_test_split(X, y, random_state=42, test_size=0.20)"
      ],
      "execution_count": 70,
      "outputs": []
    },
    {
      "cell_type": "code",
      "metadata": {
        "colab": {
          "base_uri": "https://localhost:8080/"
        },
        "id": "iF26tO_-h8za",
        "outputId": "22b9cd18-3ecd-4007-af4e-ac9d800da542"
      },
      "source": [
        "x_train.shape"
      ],
      "execution_count": 71,
      "outputs": [
        {
          "output_type": "execute_result",
          "data": {
            "text/plain": [
              "(32950, 18)"
            ]
          },
          "metadata": {},
          "execution_count": 71
        }
      ]
    },
    {
      "cell_type": "code",
      "metadata": {
        "id": "YdPBJX19iAYs"
      },
      "source": [
        "logistic_regression = LogisticRegression()"
      ],
      "execution_count": 72,
      "outputs": []
    },
    {
      "cell_type": "code",
      "metadata": {
        "colab": {
          "base_uri": "https://localhost:8080/"
        },
        "id": "tFNMPzuhiCvn",
        "outputId": "bd47f183-450a-4b65-acf5-b30b9f2c11aa"
      },
      "source": [
        "logistic_regression.fit(X, y)"
      ],
      "execution_count": 73,
      "outputs": [
        {
          "output_type": "execute_result",
          "data": {
            "text/plain": [
              "LogisticRegression(C=1.0, class_weight=None, dual=False, fit_intercept=True,\n",
              "                   intercept_scaling=1, l1_ratio=None, max_iter=100,\n",
              "                   multi_class='auto', n_jobs=None, penalty='l2',\n",
              "                   random_state=None, solver='lbfgs', tol=0.0001, verbose=0,\n",
              "                   warm_start=False)"
            ]
          },
          "metadata": {},
          "execution_count": 73
        }
      ]
    },
    {
      "cell_type": "code",
      "metadata": {
        "colab": {
          "base_uri": "https://localhost:8080/"
        },
        "id": "ZQfMrG9BA1FV",
        "outputId": "80a48bfa-44ba-4a21-d47f-1811d049e52a"
      },
      "source": [
        "X.columns"
      ],
      "execution_count": 74,
      "outputs": [
        {
          "output_type": "execute_result",
          "data": {
            "text/plain": [
              "Index(['edad', 'trabajo', 'estado_civil ', 'educacion', 'total_hijos',\n",
              "       'credito_sin_pago', 'prestamo_vivienda', 'prestamo_personal',\n",
              "       'valor_prestamo', 'dias_ultimo_pago', 'tarjetas_credito', 'contacto',\n",
              "       'mes', 'dia_semana', 'duracion_ultimo_contacto', 'dias_ultimo_contacto',\n",
              "       'anterior_contacto', 'numero_empleados'],\n",
              "      dtype='object')"
            ]
          },
          "metadata": {},
          "execution_count": 74
        }
      ]
    },
    {
      "cell_type": "code",
      "metadata": {
        "id": "zzU0tHejiizF"
      },
      "source": [
        "from sklearn.feature_selection import RFE"
      ],
      "execution_count": 75,
      "outputs": []
    },
    {
      "cell_type": "code",
      "metadata": {
        "colab": {
          "base_uri": "https://localhost:8080/"
        },
        "id": "DzhtZ7AwikbQ",
        "outputId": "eb05f5ee-2b7c-4558-c294-b08aaf22993d"
      },
      "source": [
        "model = LogisticRegression(solver='lbfgs', max_iter=100000)\n",
        "rfe = RFE(model, 3, verbose=1)\n",
        "rfe = rfe.fit(X, y)"
      ],
      "execution_count": 89,
      "outputs": [
        {
          "output_type": "stream",
          "name": "stdout",
          "text": [
            "Fitting estimator with 18 features.\n",
            "Fitting estimator with 17 features.\n",
            "Fitting estimator with 16 features.\n",
            "Fitting estimator with 15 features.\n",
            "Fitting estimator with 14 features.\n",
            "Fitting estimator with 13 features.\n",
            "Fitting estimator with 12 features.\n",
            "Fitting estimator with 11 features.\n",
            "Fitting estimator with 10 features.\n",
            "Fitting estimator with 9 features.\n",
            "Fitting estimator with 8 features.\n",
            "Fitting estimator with 7 features.\n",
            "Fitting estimator with 6 features.\n",
            "Fitting estimator with 5 features.\n",
            "Fitting estimator with 4 features.\n"
          ]
        }
      ]
    },
    {
      "cell_type": "code",
      "metadata": {
        "colab": {
          "base_uri": "https://localhost:8080/"
        },
        "id": "qS3irn2LMZjP",
        "outputId": "55ef91ed-7759-4206-c007-70220a6bcb24"
      },
      "source": [
        "for i in range(X.shape[1]):print(f'{X.columns[i]} es {rfe.support_[i]}')"
      ],
      "execution_count": 107,
      "outputs": [
        {
          "output_type": "stream",
          "name": "stdout",
          "text": [
            "edad es False\n",
            "trabajo es False\n",
            "estado_civil  es False\n",
            "educacion es False\n",
            "total_hijos es False\n",
            "credito_sin_pago es True\n",
            "prestamo_vivienda es False\n",
            "prestamo_personal es False\n",
            "valor_prestamo es False\n",
            "dias_ultimo_pago es False\n",
            "tarjetas_credito es False\n",
            "contacto es True\n",
            "mes es False\n",
            "dia_semana es False\n",
            "duracion_ultimo_contacto es False\n",
            "dias_ultimo_contacto es False\n",
            "anterior_contacto es True\n",
            "numero_empleados es False\n"
          ]
        }
      ]
    },
    {
      "cell_type": "code",
      "metadata": {
        "colab": {
          "base_uri": "https://localhost:8080/"
        },
        "id": "KBQWKuqPBK7h",
        "outputId": "c97f6098-0acb-4877-f919-e7c9c953f169"
      },
      "source": [
        "print(X.columns[rfe.support_ == True])"
      ],
      "execution_count": 92,
      "outputs": [
        {
          "output_type": "stream",
          "name": "stdout",
          "text": [
            "Index(['credito_sin_pago', 'contacto', 'anterior_contacto'], dtype='object')\n"
          ]
        }
      ]
    },
    {
      "cell_type": "code",
      "metadata": {
        "id": "dQNhpkZ1jUBG"
      },
      "source": [
        "X_train, X_test, y_train, y_test = train_test_split(XX, y, test_size=0.2, random_state=8, stratify=y)"
      ],
      "execution_count": 108,
      "outputs": []
    },
    {
      "cell_type": "code",
      "metadata": {
        "colab": {
          "base_uri": "https://localhost:8080/"
        },
        "id": "vIcW-YWpjXOK",
        "outputId": "45d71bf3-0623-416e-ccd6-8b4d541f22bd"
      },
      "source": [
        "X_train.shape"
      ],
      "execution_count": 109,
      "outputs": [
        {
          "output_type": "execute_result",
          "data": {
            "text/plain": [
              "(32950, 3)"
            ]
          },
          "metadata": {},
          "execution_count": 109
        }
      ]
    },
    {
      "cell_type": "code",
      "metadata": {
        "id": "h27J6nKNjZsH"
      },
      "source": [
        "model = LogisticRegression(solver='lbfgs', max_iter=4000)\n",
        "model.fit(X_train, y_train)\n",
        "y_predict = model.predict(X_test)"
      ],
      "execution_count": 110,
      "outputs": []
    },
    {
      "cell_type": "code",
      "metadata": {
        "colab": {
          "base_uri": "https://localhost:8080/"
        },
        "id": "_KI-14sOjbtr",
        "outputId": "2a788b23-0fff-4bf8-83fc-de2eade5caad"
      },
      "source": [
        "model.score(X_test, y_test)"
      ],
      "execution_count": 111,
      "outputs": [
        {
          "output_type": "execute_result",
          "data": {
            "text/plain": [
              "0.8883224083515416"
            ]
          },
          "metadata": {},
          "execution_count": 111
        }
      ]
    }
  ]
}