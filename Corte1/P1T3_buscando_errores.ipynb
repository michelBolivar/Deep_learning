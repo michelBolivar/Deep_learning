{
  "nbformat": 4,
  "nbformat_minor": 0,
  "metadata": {
    "colab": {
      "name": "P1T3_buscando_errores",
      "provenance": [],
      "collapsed_sections": []
    },
    "kernelspec": {
      "name": "python3",
      "display_name": "Python 3"
    },
    "language_info": {
      "name": "python"
    }
  },
  "cells": [
    {
      "cell_type": "markdown",
      "metadata": {
        "id": "qQKBfznIVcTp"
      },
      "source": [
        "Laura Michel Bolivar Rincon\n"
      ]
    },
    {
      "cell_type": "markdown",
      "metadata": {
        "id": "hqGco27cRGL6"
      },
      "source": [
        "**P1T3_A:**"
      ]
    },
    {
      "cell_type": "markdown",
      "metadata": {
        "id": "V86y8FLOO1ea"
      },
      "source": [
        "1. Se necesitaba convertir la variable *bruto* a entero \n",
        "2. Se estaba llamando la funcion *f_aplica_iva* antes de crearla \n",
        "3. Se necesitaba cambiar el valor del iva por 0.19\n",
        "\n",
        "\n",
        "\n",
        "\n",
        "\n"
      ]
    },
    {
      "cell_type": "code",
      "metadata": {
        "colab": {
          "base_uri": "https://localhost:8080/"
        },
        "id": "zxp1fzyrW5r-",
        "outputId": "448c0e60-c84f-46cc-ec63-694e163590d3"
      },
      "source": [
        "bruto = int(input('Cual es el valor bruto del producto: '))\n",
        "def f_aplica_iva(bruto , iva=0.19):\n",
        "    total_iva = bruto * iva \n",
        "    return total_iva\n",
        "\n",
        "print(f_aplica_iva(bruto , iva)) \n",
        "    "
      ],
      "execution_count": null,
      "outputs": [
        {
          "output_type": "stream",
          "text": [
            "Cual es el valor bruto del producto: 5000\n",
            "950.0\n"
          ],
          "name": "stdout"
        }
      ]
    },
    {
      "cell_type": "markdown",
      "metadata": {
        "id": "h26j49U-UUSX"
      },
      "source": [
        "**P1T3_B:**\n"
      ]
    },
    {
      "cell_type": "markdown",
      "metadata": {
        "id": "NQNii21FHgJO"
      },
      "source": [
        "1. las variables **u** y **v** son tuplas lo que hace que la operacion entre ellas no se pueda , es por ello que se convirtieron a listas.\n",
        "2. Se cambio el valor del rango en el ciclo for "
      ]
    },
    {
      "cell_type": "code",
      "metadata": {
        "colab": {
          "base_uri": "https://localhost:8080/"
        },
        "id": "vlr51VdhYcJw",
        "outputId": "d53a33cc-4582-43c1-9a52-f394d0794ddc"
      },
      "source": [
        "u = (1, 2, 3)\n",
        "v = (4, 5, 6)\n",
        "u2=list(u)\n",
        "v2=list(v)\n",
        "def multiplicar_vector(u2, v2):\n",
        "    for i in range(0,len(u2)):\n",
        "        u2[i] *= v2[i]\n",
        "        return sum(u2)\n",
        "       \n",
        "print(multiplicar_vector(u2, v2))"
      ],
      "execution_count": 1,
      "outputs": [
        {
          "output_type": "stream",
          "text": [
            "9\n"
          ],
          "name": "stdout"
        }
      ]
    },
    {
      "cell_type": "markdown",
      "metadata": {
        "id": "3ku0MoYBVIIi"
      },
      "source": [
        "**P1T3_C:**"
      ]
    },
    {
      "cell_type": "markdown",
      "metadata": {
        "id": "FZK2vgkvVKoN"
      },
      "source": [
        "1. Se necesitaba inicializar la variable *total* \n",
        "2. Se necesitaba convertir a entero el \"Total de números? \""
      ]
    },
    {
      "cell_type": "code",
      "metadata": {
        "colab": {
          "base_uri": "https://localhost:8080/"
        },
        "id": "UIuEtJBQU2gM",
        "outputId": "d4e4c084-8e98-4e0f-e4fc-d720aa03c40a"
      },
      "source": [
        "total=0\n",
        "for i in range(0, int(input(\"Total de números? \"))):\n",
        "  total+=int(input(\"Ingrese un valor: \"+str(i)+\": \"))\n",
        "print(\"El total de la suma es:{} \",total)"
      ],
      "execution_count": null,
      "outputs": [
        {
          "output_type": "stream",
          "text": [
            "Total de números? 4\n",
            "Ingrese un valor: 0: 1\n",
            "Ingrese un valor: 1: 2\n",
            "Ingrese un valor: 2: 3\n",
            "Ingrese un valor: 3: 4\n",
            "El total de la suma es:{}  10\n"
          ],
          "name": "stdout"
        }
      ]
    }
  ]
}