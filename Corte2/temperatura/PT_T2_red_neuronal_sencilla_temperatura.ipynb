{
  "nbformat": 4,
  "nbformat_minor": 0,
  "metadata": {
    "colab": {
      "name": "PT_T2_red_neuronal_sencilla_temperatura",
      "provenance": [],
      "collapsed_sections": []
    },
    "kernelspec": {
      "display_name": "Python 3",
      "name": "python3"
    },
    "language_info": {
      "name": "python"
    }
  },
  "cells": [
    {
      "cell_type": "markdown",
      "metadata": {
        "id": "5UBmff3uecK0"
      },
      "source": [
        "##P1.importar Librerias \n"
      ]
    },
    {
      "cell_type": "code",
      "metadata": {
        "id": "hwc5v1LPeJd9"
      },
      "source": [
        "import tensorflow as tf\n",
        "import numpy as np\n",
        "import pandas as pd"
      ],
      "execution_count": 1,
      "outputs": []
    },
    {
      "cell_type": "markdown",
      "metadata": {
        "id": "vIjwbphxpdcy"
      },
      "source": [
        "###Conversion de Celsius  a Fahrenheit\n"
      ]
    },
    {
      "cell_type": "code",
      "metadata": {
        "colab": {
          "base_uri": "https://localhost:8080/"
        },
        "id": "mI_Ir3AEpY50",
        "outputId": "c7d40240-42bd-4b8e-bdac-bbf38a6c0eec"
      },
      "source": [
        "#creamos una funcion para convertir\n",
        "def f_conv_cels_fah (p_celsius):\n",
        "  fah= p_celsius*1.8 + 32\n",
        "  return fah\n",
        "\n",
        "print('50° Celsius= ',\n",
        "      f_conv_cels_fah(50),\n",
        "      '° Fahrenheit ')"
      ],
      "execution_count": 2,
      "outputs": [
        {
          "output_type": "stream",
          "name": "stdout",
          "text": [
            "50° Celsius=  122.0 ° Fahrenheit \n"
          ]
        }
      ]
    },
    {
      "cell_type": "markdown",
      "metadata": {
        "id": "zg_cQEyWppPy"
      },
      "source": [
        "###Conversion de Fahrenheit a Celsius"
      ]
    },
    {
      "cell_type": "code",
      "metadata": {
        "colab": {
          "base_uri": "https://localhost:8080/"
        },
        "id": "xWjCR65Op3k4",
        "outputId": "11650cb4-dcfa-463b-f2a4-57de7fbb8ce4"
      },
      "source": [
        "#creamos una funcion para convertir\n",
        "def f_conv_fah_cels (p_farin):\n",
        "  celci= (p_farin -32) *5/9\n",
        "  return celci\n",
        "\n",
        "print('122° Fahrenheit= ',\n",
        "      f_conv_fah_cels(122),\n",
        "      '° Celsius ')"
      ],
      "execution_count": 3,
      "outputs": [
        {
          "output_type": "stream",
          "name": "stdout",
          "text": [
            "122° Fahrenheit=  50.0 ° Celsius \n"
          ]
        }
      ]
    },
    {
      "cell_type": "markdown",
      "metadata": {
        "id": "mSNgOOzoezSE"
      },
      "source": [
        "##P2.importamos la BD "
      ]
    },
    {
      "cell_type": "code",
      "metadata": {
        "id": "GZqSz1hRe2aO"
      },
      "source": [
        "data = pd.DataFrame()\n",
        "data = pd.read_csv('https://raw.githubusercontent.com/michelBolivar/Deep_learning/main/Corte2/temperatura/temperatura.txt', encoding='utf-8')"
      ],
      "execution_count": 4,
      "outputs": []
    },
    {
      "cell_type": "code",
      "metadata": {
        "colab": {
          "base_uri": "https://localhost:8080/",
          "height": 362
        },
        "id": "C62oPm-hfBpM",
        "outputId": "6e386ced-eec8-42f5-dc8a-d4fb76f45898"
      },
      "source": [
        "data.head(10)\n"
      ],
      "execution_count": 5,
      "outputs": [
        {
          "output_type": "execute_result",
          "data": {
            "text/html": [
              "<div>\n",
              "<style scoped>\n",
              "    .dataframe tbody tr th:only-of-type {\n",
              "        vertical-align: middle;\n",
              "    }\n",
              "\n",
              "    .dataframe tbody tr th {\n",
              "        vertical-align: top;\n",
              "    }\n",
              "\n",
              "    .dataframe thead th {\n",
              "        text-align: right;\n",
              "    }\n",
              "</style>\n",
              "<table border=\"1\" class=\"dataframe\">\n",
              "  <thead>\n",
              "    <tr style=\"text-align: right;\">\n",
              "      <th></th>\n",
              "      <th>Celsius</th>\n",
              "      <th>Fahrenheit</th>\n",
              "    </tr>\n",
              "  </thead>\n",
              "  <tbody>\n",
              "    <tr>\n",
              "      <th>0</th>\n",
              "      <td>74</td>\n",
              "      <td>165.2</td>\n",
              "    </tr>\n",
              "    <tr>\n",
              "      <th>1</th>\n",
              "      <td>39</td>\n",
              "      <td>102.2</td>\n",
              "    </tr>\n",
              "    <tr>\n",
              "      <th>2</th>\n",
              "      <td>53</td>\n",
              "      <td>127.4</td>\n",
              "    </tr>\n",
              "    <tr>\n",
              "      <th>3</th>\n",
              "      <td>76</td>\n",
              "      <td>168.8</td>\n",
              "    </tr>\n",
              "    <tr>\n",
              "      <th>4</th>\n",
              "      <td>24</td>\n",
              "      <td>75.2</td>\n",
              "    </tr>\n",
              "    <tr>\n",
              "      <th>5</th>\n",
              "      <td>57</td>\n",
              "      <td>134.6</td>\n",
              "    </tr>\n",
              "    <tr>\n",
              "      <th>6</th>\n",
              "      <td>5</td>\n",
              "      <td>41.0</td>\n",
              "    </tr>\n",
              "    <tr>\n",
              "      <th>7</th>\n",
              "      <td>21</td>\n",
              "      <td>69.8</td>\n",
              "    </tr>\n",
              "    <tr>\n",
              "      <th>8</th>\n",
              "      <td>62</td>\n",
              "      <td>143.6</td>\n",
              "    </tr>\n",
              "    <tr>\n",
              "      <th>9</th>\n",
              "      <td>8</td>\n",
              "      <td>46.4</td>\n",
              "    </tr>\n",
              "  </tbody>\n",
              "</table>\n",
              "</div>"
            ],
            "text/plain": [
              "   Celsius  Fahrenheit\n",
              "0       74       165.2\n",
              "1       39       102.2\n",
              "2       53       127.4\n",
              "3       76       168.8\n",
              "4       24        75.2\n",
              "5       57       134.6\n",
              "6        5        41.0\n",
              "7       21        69.8\n",
              "8       62       143.6\n",
              "9        8        46.4"
            ]
          },
          "metadata": {},
          "execution_count": 5
        }
      ]
    },
    {
      "cell_type": "code",
      "metadata": {
        "colab": {
          "base_uri": "https://localhost:8080/",
          "height": 205
        },
        "id": "ghDHuqF9iadi",
        "outputId": "2ef38658-2ef4-415f-914c-78c5d3e59976"
      },
      "source": [
        "data_cel=data.drop(['Fahrenheit'], axis=1)\n",
        "data_cel.head()"
      ],
      "execution_count": 6,
      "outputs": [
        {
          "output_type": "execute_result",
          "data": {
            "text/html": [
              "<div>\n",
              "<style scoped>\n",
              "    .dataframe tbody tr th:only-of-type {\n",
              "        vertical-align: middle;\n",
              "    }\n",
              "\n",
              "    .dataframe tbody tr th {\n",
              "        vertical-align: top;\n",
              "    }\n",
              "\n",
              "    .dataframe thead th {\n",
              "        text-align: right;\n",
              "    }\n",
              "</style>\n",
              "<table border=\"1\" class=\"dataframe\">\n",
              "  <thead>\n",
              "    <tr style=\"text-align: right;\">\n",
              "      <th></th>\n",
              "      <th>Celsius</th>\n",
              "    </tr>\n",
              "  </thead>\n",
              "  <tbody>\n",
              "    <tr>\n",
              "      <th>0</th>\n",
              "      <td>74</td>\n",
              "    </tr>\n",
              "    <tr>\n",
              "      <th>1</th>\n",
              "      <td>39</td>\n",
              "    </tr>\n",
              "    <tr>\n",
              "      <th>2</th>\n",
              "      <td>53</td>\n",
              "    </tr>\n",
              "    <tr>\n",
              "      <th>3</th>\n",
              "      <td>76</td>\n",
              "    </tr>\n",
              "    <tr>\n",
              "      <th>4</th>\n",
              "      <td>24</td>\n",
              "    </tr>\n",
              "  </tbody>\n",
              "</table>\n",
              "</div>"
            ],
            "text/plain": [
              "   Celsius\n",
              "0       74\n",
              "1       39\n",
              "2       53\n",
              "3       76\n",
              "4       24"
            ]
          },
          "metadata": {},
          "execution_count": 6
        }
      ]
    },
    {
      "cell_type": "code",
      "metadata": {
        "colab": {
          "base_uri": "https://localhost:8080/",
          "height": 205
        },
        "id": "opTjYIN5jYDI",
        "outputId": "69ab8fd3-f803-4ff7-c341-b591d5b3f428"
      },
      "source": [
        "data_farin=data.drop(['Celsius'], axis=1)\n",
        "data_farin.head()"
      ],
      "execution_count": 7,
      "outputs": [
        {
          "output_type": "execute_result",
          "data": {
            "text/html": [
              "<div>\n",
              "<style scoped>\n",
              "    .dataframe tbody tr th:only-of-type {\n",
              "        vertical-align: middle;\n",
              "    }\n",
              "\n",
              "    .dataframe tbody tr th {\n",
              "        vertical-align: top;\n",
              "    }\n",
              "\n",
              "    .dataframe thead th {\n",
              "        text-align: right;\n",
              "    }\n",
              "</style>\n",
              "<table border=\"1\" class=\"dataframe\">\n",
              "  <thead>\n",
              "    <tr style=\"text-align: right;\">\n",
              "      <th></th>\n",
              "      <th>Fahrenheit</th>\n",
              "    </tr>\n",
              "  </thead>\n",
              "  <tbody>\n",
              "    <tr>\n",
              "      <th>0</th>\n",
              "      <td>165.2</td>\n",
              "    </tr>\n",
              "    <tr>\n",
              "      <th>1</th>\n",
              "      <td>102.2</td>\n",
              "    </tr>\n",
              "    <tr>\n",
              "      <th>2</th>\n",
              "      <td>127.4</td>\n",
              "    </tr>\n",
              "    <tr>\n",
              "      <th>3</th>\n",
              "      <td>168.8</td>\n",
              "    </tr>\n",
              "    <tr>\n",
              "      <th>4</th>\n",
              "      <td>75.2</td>\n",
              "    </tr>\n",
              "  </tbody>\n",
              "</table>\n",
              "</div>"
            ],
            "text/plain": [
              "   Fahrenheit\n",
              "0       165.2\n",
              "1       102.2\n",
              "2       127.4\n",
              "3       168.8\n",
              "4        75.2"
            ]
          },
          "metadata": {},
          "execution_count": 7
        }
      ]
    },
    {
      "cell_type": "markdown",
      "metadata": {
        "id": "rsdunFXrfn9q"
      },
      "source": [
        "##P3.Creando Red Neuronal"
      ]
    },
    {
      "cell_type": "markdown",
      "metadata": {
        "id": "eeudLWomftih"
      },
      "source": [
        "crearemos 3 capas densas"
      ]
    },
    {
      "cell_type": "code",
      "metadata": {
        "id": "z8mMX4Mtf1Gp"
      },
      "source": [
        "capa = tf.keras.layers.Dense(units=1, input_shape=[1])\n",
        "modelo = tf.keras.Sequential([capa])"
      ],
      "execution_count": 8,
      "outputs": []
    },
    {
      "cell_type": "code",
      "metadata": {
        "id": "LDJf7jgBvGrn"
      },
      "source": [
        "capa_2 = tf.keras.layers.Dense(units=1, input_shape=[1])\n",
        "modelo_2 = tf.keras.Sequential([capa_2])"
      ],
      "execution_count": 20,
      "outputs": []
    },
    {
      "cell_type": "markdown",
      "metadata": {
        "id": "L9rqYObJf6Xb"
      },
      "source": [
        "###3.1 Compilamos la red"
      ]
    },
    {
      "cell_type": "markdown",
      "metadata": {
        "id": "gKgg0UZggCB6"
      },
      "source": [
        "\n",
        "*   Usaremos el optimizador ADAM\n",
        "*   Definiremos una tasa de aprendizaje de 0.1\n",
        "\n"
      ]
    },
    {
      "cell_type": "code",
      "metadata": {
        "id": "9cJcoQ50gPEX"
      },
      "source": [
        "modelo.compile(\n",
        "    optimizer=tf.keras.optimizers.Adam(0.1),\n",
        "    loss='mean_squared_error'\n",
        ")"
      ],
      "execution_count": 9,
      "outputs": []
    },
    {
      "cell_type": "code",
      "metadata": {
        "id": "yx1OjBZhvmOr"
      },
      "source": [
        "modelo_2.compile(\n",
        "    optimizer=tf.keras.optimizers.Adam(0.1),\n",
        "    loss='mean_squared_error'\n",
        ")"
      ],
      "execution_count": 21,
      "outputs": []
    },
    {
      "cell_type": "markdown",
      "metadata": {
        "id": "PyHA-uOagQ0I"
      },
      "source": [
        "##P4.Entrenando"
      ]
    },
    {
      "cell_type": "code",
      "metadata": {
        "colab": {
          "base_uri": "https://localhost:8080/"
        },
        "id": "JxgJXJiVgTRB",
        "outputId": "67ebbd64-cb90-4564-92e2-2530348cc058"
      },
      "source": [
        "print(\"Comenzando entrenamiento...\")\n",
        "historial = modelo.fit(data_cel,data_farin, epochs=1000, verbose=False)\n",
        "print(\"Modelo entrenado!\")"
      ],
      "execution_count": 10,
      "outputs": [
        {
          "output_type": "stream",
          "name": "stdout",
          "text": [
            "Comenzando entrenamiento...\n",
            "Modelo entrenado!\n"
          ]
        }
      ]
    },
    {
      "cell_type": "code",
      "metadata": {
        "colab": {
          "base_uri": "https://localhost:8080/"
        },
        "id": "zlb7Ozb0oUko",
        "outputId": "115e4ca3-caad-4ad4-ac1d-43b160575684"
      },
      "source": [
        "print(\"Comenzando entrenamiento...\")\n",
        "historial_2 = modelo_2.fit(data_farin,data_cel, epochs=1000, verbose=False)\n",
        "print(\"Modelo entrenado!\")"
      ],
      "execution_count": 22,
      "outputs": [
        {
          "output_type": "stream",
          "name": "stdout",
          "text": [
            "Comenzando entrenamiento...\n",
            "Modelo entrenado!\n"
          ]
        }
      ]
    },
    {
      "cell_type": "markdown",
      "metadata": {
        "id": "lELIKcYEj45x"
      },
      "source": [
        "###4.1Resultados Entrenamiento\n"
      ]
    },
    {
      "cell_type": "code",
      "metadata": {
        "colab": {
          "base_uri": "https://localhost:8080/",
          "height": 297
        },
        "id": "vnJr29O6j8mG",
        "outputId": "3b1fafb5-f24a-4a2b-a287-1d20a3472164"
      },
      "source": [
        "import matplotlib.pyplot as plt\n",
        "plt.xlabel(\"# Epoca\")\n",
        "plt.ylabel(\"Magnitud de pérdida\")\n",
        "plt.plot(historial.history[\"loss\"])"
      ],
      "execution_count": 11,
      "outputs": [
        {
          "output_type": "execute_result",
          "data": {
            "text/plain": [
              "[<matplotlib.lines.Line2D at 0x7efef150f210>]"
            ]
          },
          "metadata": {},
          "execution_count": 11
        },
        {
          "output_type": "display_data",
          "data": {
            "image/png": "[encoded data removed]",
            "text/plain": [
              "<Figure size 432x288 with 1 Axes>"
            ]
          },
          "metadata": {
            "needs_background": "light"
          }
        }
      ]
    },
    {
      "cell_type": "markdown",
      "metadata": {
        "id": "hKoYJOP4kCam"
      },
      "source": [
        "##P5.Prediccion"
      ]
    },
    {
      "cell_type": "markdown",
      "metadata": {
        "id": "2bTefkdlnZRX"
      },
      "source": [
        "###Prediccion de Fahrenheit"
      ]
    },
    {
      "cell_type": "code",
      "metadata": {
        "colab": {
          "base_uri": "https://localhost:8080/"
        },
        "id": "hhbeRMgIkGqm",
        "outputId": "c3310dba-cb75-4034-d7f9-d1182c0d3abd"
      },
      "source": [
        "v_celsius= 24\n",
        "print(\"Hagamos una predicción!\")\n",
        "resul_IA   = modelo.predict([v_celsius])\n",
        "result_real= f_conv_cels_fah(v_celsius)\n",
        "dif        = 100-(resul_IA*100/result_real)\n",
        "print('Celsius= ',v_celsius, '°  = \\n Fahrenheit:',\n",
        "      '\\nIA: ',resul_IA,\n",
        "      '\\nRegular: ',result_real,\n",
        "      '\\nDif %:',dif)"
      ],
      "execution_count": 26,
      "outputs": [
        {
          "output_type": "stream",
          "name": "stdout",
          "text": [
            "Hagamos una predicción!\n",
            "Celsius=  24 °  = \n",
            " Fahrenheit: \n",
            "IA:  [[75.2]] \n",
            "Regular:  75.2 \n",
            "Dif %: [[0.]]\n"
          ]
        }
      ]
    },
    {
      "cell_type": "markdown",
      "metadata": {
        "id": "ZyFeY04unuPE"
      },
      "source": [
        "###Prediccion de Celsius"
      ]
    },
    {
      "cell_type": "code",
      "metadata": {
        "colab": {
          "base_uri": "https://localhost:8080/"
        },
        "id": "mUZVfp7-nVLT",
        "outputId": "d9e95897-7e75-4f34-f39d-2a59a41b3872"
      },
      "source": [
        "p_farin= 75.2\n",
        "print(\"Hagamos una predicción!\")\n",
        "resul_IA   = modelo_2.predict([p_farin])\n",
        "result_real= f_conv_fah_cels(p_farin)\n",
        "dif        = 100-(resul_IA*100/result_real)\n",
        "print('Fahrenheit= ',p_farin, '° = \\n Celsius:',\n",
        "      '\\nIA: ',resul_IA,\n",
        "      '\\nRegular: ',result_real,\n",
        "      '\\nDif %:',dif)"
      ],
      "execution_count": 25,
      "outputs": [
        {
          "output_type": "stream",
          "name": "stdout",
          "text": [
            "Hagamos una predicción!\n",
            "Fahrenheit=  75.2 ° = \n",
            " Celsius: \n",
            "IA:  [[23.98023]] \n",
            "Regular:  24.0 \n",
            "Dif %: [[0.08237457]]\n"
          ]
        }
      ]
    },
    {
      "cell_type": "markdown",
      "metadata": {
        "id": "u3nDV0e4xRgk"
      },
      "source": [
        "##P6.Conociendo que sesgos y pesos resultantes "
      ]
    },
    {
      "cell_type": "code",
      "metadata": {
        "colab": {
          "base_uri": "https://localhost:8080/"
        },
        "id": "O7xH5YHyxX0d",
        "outputId": "68cd21fa-cd47-460a-c5d0-f8a6c69d848b"
      },
      "source": [
        "print(\"Variables internas del modelo\")\n",
        "print('peso: ',capa.get_weights()[0])\n",
        "print('sesgo: ',capa.get_weights()[1]) "
      ],
      "execution_count": 13,
      "outputs": [
        {
          "output_type": "stream",
          "name": "stdout",
          "text": [
            "Variables internas del modelo\n",
            "peso:  [[1.8]]\n",
            "sesgo:  [31.999998]\n"
          ]
        }
      ]
    },
    {
      "cell_type": "code",
      "metadata": {
        "colab": {
          "base_uri": "https://localhost:8080/"
        },
        "id": "Xk9lSvE0rkXV",
        "outputId": "cf94b5d6-feaf-4778-ea58-5115781401fb"
      },
      "source": [
        "print(\"Variables internas del modelo\")\n",
        "print('peso: ',capa_2.get_weights()[0])\n",
        "print('sesgo: ',capa_2.get_weights()[1]) "
      ],
      "execution_count": 24,
      "outputs": [
        {
          "output_type": "stream",
          "name": "stdout",
          "text": [
            "Variables internas del modelo\n",
            "peso:  [[0.5553028]]\n",
            "sesgo:  [-17.77854]\n"
          ]
        }
      ]
    },
    {
      "cell_type": "markdown",
      "metadata": {
        "id": "Hfmu6NLYxia-"
      },
      "source": [
        "##P7.Mas Neuronas y mas capas "
      ]
    },
    {
      "cell_type": "markdown",
      "metadata": {
        "id": "om6dU5_z8Yj-"
      },
      "source": [
        "###P7.1  Creamos un modelo con dos capas ocultas"
      ]
    },
    {
      "cell_type": "code",
      "metadata": {
        "id": "Dp5YOMLI8xuZ"
      },
      "source": [
        "oculta1 = tf.keras.layers.Dense(units=3, input_shape=[1])  # capa DENSA con 3 neuronas y el entra información de 1 capa\n",
        "oculta2 = tf.keras.layers.Dense(units=3)                   # capa DENSA con 3 neuronas\n",
        "salida  = tf.keras.layers.Dense(units=1)                    # capa de salida con 1 neurona\n",
        "#creamos el modelo con las 4 capas (recuerden 1 que la de la parametros no hace falta definirla)\n",
        "modelo_v2 = tf.keras.Sequential([oculta1, oculta2, salida])"
      ],
      "execution_count": 14,
      "outputs": []
    },
    {
      "cell_type": "code",
      "metadata": {
        "id": "7YOTrwtQ80--"
      },
      "source": [
        "modelo_v2.compile(\n",
        "    optimizer=tf.keras.optimizers.Adam(0.1),\n",
        "    loss='mean_squared_error'\n",
        ")"
      ],
      "execution_count": 15,
      "outputs": []
    },
    {
      "cell_type": "code",
      "metadata": {
        "colab": {
          "base_uri": "https://localhost:8080/"
        },
        "id": "PFcSxYy384MV",
        "outputId": "26c8282c-2d26-4879-c3ef-74cea3ec55b5"
      },
      "source": [
        "print(\"Comenzando entrenamiento...\")\n",
        "historial_V2 = modelo_v2.fit(data_cel,data_farin, epochs=1000, verbose=False)\n",
        "print(\"modelo_v2 entrenado!\")"
      ],
      "execution_count": 16,
      "outputs": [
        {
          "output_type": "stream",
          "name": "stdout",
          "text": [
            "Comenzando entrenamiento...\n",
            "modelo_v2 entrenado!\n"
          ]
        }
      ]
    },
    {
      "cell_type": "markdown",
      "metadata": {
        "id": "fVEjAxhm9KHq"
      },
      "source": [
        "###P7.2 resultados del entrenamiento"
      ]
    },
    {
      "cell_type": "code",
      "metadata": {
        "colab": {
          "base_uri": "https://localhost:8080/",
          "height": 297
        },
        "id": "nmePyEol9NvA",
        "outputId": "22f869c2-b497-43b4-9e7d-dd5bc8976dcd"
      },
      "source": [
        "import matplotlib.pyplot as plt\n",
        "plt.xlabel(\"# Epoca\")\n",
        "plt.ylabel(\"Magnitud de pérdida\")\n",
        "plt.plot(historial_V2.history[\"loss\"])"
      ],
      "execution_count": 17,
      "outputs": [
        {
          "output_type": "execute_result",
          "data": {
            "text/plain": [
              "[<matplotlib.lines.Line2D at 0x7efeedba9750>]"
            ]
          },
          "metadata": {},
          "execution_count": 17
        },
        {
          "output_type": "display_data",
          "data": {
            "image/png": "[encoded data removed]",
            "text/plain": [
              "<Figure size 432x288 with 1 Axes>"
            ]
          },
          "metadata": {
            "needs_background": "light"
          }
        }
      ]
    },
    {
      "cell_type": "markdown",
      "metadata": {
        "id": "W2JytWbQ9Tvd"
      },
      "source": [
        "###P7.3. conociendo que sesgos y pesos resultantes"
      ]
    },
    {
      "cell_type": "code",
      "metadata": {
        "colab": {
          "base_uri": "https://localhost:8080/"
        },
        "id": "6CzuMHDx9Wut",
        "outputId": "02393135-ef9d-4e0c-d6b0-e5b91b748320"
      },
      "source": [
        "print(\"Variables internas del modelo\")\n",
        "print(oculta1.get_weights())\n",
        "print(oculta2.get_weights())\n",
        "print(salida.get_weights())"
      ],
      "execution_count": 18,
      "outputs": [
        {
          "output_type": "stream",
          "name": "stdout",
          "text": [
            "Variables internas del modelo\n",
            "[array([[-0.44138217,  0.0807213 , -1.0278562 ]], dtype=float32), array([ 3.2754333, -4.136193 , -5.9992185], dtype=float32)]\n",
            "[array([[ 0.17724156, -1.4347545 ,  0.29843646],\n",
            "       [-0.52793056, -0.15950146, -0.05840732],\n",
            "       [-0.10693173,  0.6359272 ,  1.5252141 ]], dtype=float32), array([ 0.8282281,  4.6095085, -9.671937 ], dtype=float32)]\n",
            "[array([[ 0.02560127],\n",
            "       [-0.03340441],\n",
            "       [-1.0557222 ]], dtype=float32), array([13.198896], dtype=float32)]\n"
          ]
        }
      ]
    },
    {
      "cell_type": "markdown",
      "metadata": {
        "id": "IngZkV7b9a31"
      },
      "source": [
        "###P7.4 Prediccion "
      ]
    },
    {
      "cell_type": "code",
      "metadata": {
        "colab": {
          "base_uri": "https://localhost:8080/"
        },
        "id": "8iQ8ju4d9fYW",
        "outputId": "ea4d6ef6-b941-4f74-c7d5-db94f75e8c1f"
      },
      "source": [
        "v_celsius= 24\n",
        "print(\"Hagamos una predicción!\")\n",
        "resul_IA   = modelo_v2.predict([v_celsius])\n",
        "result_real= f_conv_cels_fah(v_celsius)\n",
        "dif        = 100-(resul_IA*100/result_real)\n",
        "print('Celsius= ',v_celsius, '° = Fahrenheit:',\n",
        "      '\\nIA: ',resul_IA,\n",
        "      '\\nRegular: ',result_real,\n",
        "      '\\nDif %:',dif)"
      ],
      "execution_count": 19,
      "outputs": [
        {
          "output_type": "stream",
          "name": "stdout",
          "text": [
            "Hagamos una predicción!\n",
            "Celsius=  24 ° = Fahrenheit: \n",
            "IA:  [[75.1978]] \n",
            "Regular:  75.2 \n",
            "Dif %: [[0.00292206]]\n"
          ]
        }
      ]
    }
  ]
}